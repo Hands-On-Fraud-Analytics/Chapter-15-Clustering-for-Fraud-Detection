{
  "nbformat": 4,
  "nbformat_minor": 0,
  "metadata": {
    "colab": {
      "provenance": [],
      "authorship_tag": "ABX9TyMszCrB/+csGKwFQa3uFWNm",
      "include_colab_link": true
    },
    "kernelspec": {
      "name": "python3",
      "display_name": "Python 3"
    },
    "language_info": {
      "name": "python"
    }
  },
  "cells": [
    {
      "cell_type": "markdown",
      "metadata": {
        "id": "view-in-github",
        "colab_type": "text"
      },
      "source": [
        "<a href=\"https://colab.research.google.com/github/Hands-On-Fraud-Analytics/Chapter-15-Clustering-for-Fraud-Detection/blob/main/Chapter_15_Clustering_for_Fraud_Detection.ipynb\" target=\"_parent\"><img src=\"https://colab.research.google.com/assets/colab-badge.svg\" alt=\"Open In Colab\"/></a>"
      ]
    },
    {
      "cell_type": "markdown",
      "source": [
        "# **Chapter 15: Clustering for Fraud Detection**"
      ],
      "metadata": {
        "id": "diZEOMEAQyHx"
      }
    },
    {
      "cell_type": "markdown",
      "source": [
        "# **Defining Normal Behavior**"
      ],
      "metadata": {
        "id": "ZbAlSOD6SLZ2"
      }
    },
    {
      "cell_type": "markdown",
      "source": [
        "## **Import Initial Libraries**"
      ],
      "metadata": {
        "id": "MSers16fQy7k"
      }
    },
    {
      "cell_type": "code",
      "source": [
        "# Import Important Libraries\n",
        "import pandas as pd\n",
        "import numpy as np\n",
        "import matplotlib.pyplot as plt\n",
        "from sklearn.datasets import make_blobs"
      ],
      "metadata": {
        "id": "ELdnz8FGdk-N"
      },
      "execution_count": 6,
      "outputs": []
    },
    {
      "cell_type": "markdown",
      "source": [
        "## **Import Datasets**"
      ],
      "metadata": {
        "id": "BVR-1_M_Qscm"
      }
    },
    {
      "cell_type": "code",
      "execution_count": 7,
      "metadata": {
        "colab": {
          "base_uri": "https://localhost:8080/",
          "height": 423
        },
        "id": "oJSdMW1T-YhU",
        "outputId": "0b875dd8-f7de-47d9-9700-80e21cd4354b"
      },
      "outputs": [
        {
          "output_type": "execute_result",
          "data": {
            "text/plain": [
              "      Unnamed: 0 age gender           category    amount  fraud\n",
              "0         171915   3      F  es_transportation   49.7100      0\n",
              "1         426989   4      F          es_health   39.2900      0\n",
              "2         310539   3      F  es_transportation   18.7600      0\n",
              "3         215216   4      M  es_transportation   13.9500      0\n",
              "4         569244   2      M  es_transportation   49.8700      0\n",
              "...          ...  ..    ...                ...       ...    ...\n",
              "7195      260136   5      M   es_hotelservices  236.1474      1\n",
              "7196       56643   5      F   es_hotelservices  139.6000      1\n",
              "7197      495817   1      F          es_travel  236.1474      1\n",
              "7198      333170   1      M   es_hotelservices  236.1474      1\n",
              "7199      579286   4      F          es_health  236.1474      1\n",
              "\n",
              "[7200 rows x 6 columns]"
            ],
            "text/html": [
              "\n",
              "  <div id=\"df-8852c157-4206-4a7d-b34c-94c177dec581\" class=\"colab-df-container\">\n",
              "    <div>\n",
              "<style scoped>\n",
              "    .dataframe tbody tr th:only-of-type {\n",
              "        vertical-align: middle;\n",
              "    }\n",
              "\n",
              "    .dataframe tbody tr th {\n",
              "        vertical-align: top;\n",
              "    }\n",
              "\n",
              "    .dataframe thead th {\n",
              "        text-align: right;\n",
              "    }\n",
              "</style>\n",
              "<table border=\"1\" class=\"dataframe\">\n",
              "  <thead>\n",
              "    <tr style=\"text-align: right;\">\n",
              "      <th></th>\n",
              "      <th>Unnamed: 0</th>\n",
              "      <th>age</th>\n",
              "      <th>gender</th>\n",
              "      <th>category</th>\n",
              "      <th>amount</th>\n",
              "      <th>fraud</th>\n",
              "    </tr>\n",
              "  </thead>\n",
              "  <tbody>\n",
              "    <tr>\n",
              "      <th>0</th>\n",
              "      <td>171915</td>\n",
              "      <td>3</td>\n",
              "      <td>F</td>\n",
              "      <td>es_transportation</td>\n",
              "      <td>49.7100</td>\n",
              "      <td>0</td>\n",
              "    </tr>\n",
              "    <tr>\n",
              "      <th>1</th>\n",
              "      <td>426989</td>\n",
              "      <td>4</td>\n",
              "      <td>F</td>\n",
              "      <td>es_health</td>\n",
              "      <td>39.2900</td>\n",
              "      <td>0</td>\n",
              "    </tr>\n",
              "    <tr>\n",
              "      <th>2</th>\n",
              "      <td>310539</td>\n",
              "      <td>3</td>\n",
              "      <td>F</td>\n",
              "      <td>es_transportation</td>\n",
              "      <td>18.7600</td>\n",
              "      <td>0</td>\n",
              "    </tr>\n",
              "    <tr>\n",
              "      <th>3</th>\n",
              "      <td>215216</td>\n",
              "      <td>4</td>\n",
              "      <td>M</td>\n",
              "      <td>es_transportation</td>\n",
              "      <td>13.9500</td>\n",
              "      <td>0</td>\n",
              "    </tr>\n",
              "    <tr>\n",
              "      <th>4</th>\n",
              "      <td>569244</td>\n",
              "      <td>2</td>\n",
              "      <td>M</td>\n",
              "      <td>es_transportation</td>\n",
              "      <td>49.8700</td>\n",
              "      <td>0</td>\n",
              "    </tr>\n",
              "    <tr>\n",
              "      <th>...</th>\n",
              "      <td>...</td>\n",
              "      <td>...</td>\n",
              "      <td>...</td>\n",
              "      <td>...</td>\n",
              "      <td>...</td>\n",
              "      <td>...</td>\n",
              "    </tr>\n",
              "    <tr>\n",
              "      <th>7195</th>\n",
              "      <td>260136</td>\n",
              "      <td>5</td>\n",
              "      <td>M</td>\n",
              "      <td>es_hotelservices</td>\n",
              "      <td>236.1474</td>\n",
              "      <td>1</td>\n",
              "    </tr>\n",
              "    <tr>\n",
              "      <th>7196</th>\n",
              "      <td>56643</td>\n",
              "      <td>5</td>\n",
              "      <td>F</td>\n",
              "      <td>es_hotelservices</td>\n",
              "      <td>139.6000</td>\n",
              "      <td>1</td>\n",
              "    </tr>\n",
              "    <tr>\n",
              "      <th>7197</th>\n",
              "      <td>495817</td>\n",
              "      <td>1</td>\n",
              "      <td>F</td>\n",
              "      <td>es_travel</td>\n",
              "      <td>236.1474</td>\n",
              "      <td>1</td>\n",
              "    </tr>\n",
              "    <tr>\n",
              "      <th>7198</th>\n",
              "      <td>333170</td>\n",
              "      <td>1</td>\n",
              "      <td>M</td>\n",
              "      <td>es_hotelservices</td>\n",
              "      <td>236.1474</td>\n",
              "      <td>1</td>\n",
              "    </tr>\n",
              "    <tr>\n",
              "      <th>7199</th>\n",
              "      <td>579286</td>\n",
              "      <td>4</td>\n",
              "      <td>F</td>\n",
              "      <td>es_health</td>\n",
              "      <td>236.1474</td>\n",
              "      <td>1</td>\n",
              "    </tr>\n",
              "  </tbody>\n",
              "</table>\n",
              "<p>7200 rows × 6 columns</p>\n",
              "</div>\n",
              "    <div class=\"colab-df-buttons\">\n",
              "\n",
              "  <div class=\"colab-df-container\">\n",
              "    <button class=\"colab-df-convert\" onclick=\"convertToInteractive('df-8852c157-4206-4a7d-b34c-94c177dec581')\"\n",
              "            title=\"Convert this dataframe to an interactive table.\"\n",
              "            style=\"display:none;\">\n",
              "\n",
              "  <svg xmlns=\"http://www.w3.org/2000/svg\" height=\"24px\" viewBox=\"0 -960 960 960\">\n",
              "    <path d=\"M120-120v-720h720v720H120Zm60-500h600v-160H180v160Zm220 220h160v-160H400v160Zm0 220h160v-160H400v160ZM180-400h160v-160H180v160Zm440 0h160v-160H620v160ZM180-180h160v-160H180v160Zm440 0h160v-160H620v160Z\"/>\n",
              "  </svg>\n",
              "    </button>\n",
              "\n",
              "  <style>\n",
              "    .colab-df-container {\n",
              "      display:flex;\n",
              "      gap: 12px;\n",
              "    }\n",
              "\n",
              "    .colab-df-convert {\n",
              "      background-color: #E8F0FE;\n",
              "      border: none;\n",
              "      border-radius: 50%;\n",
              "      cursor: pointer;\n",
              "      display: none;\n",
              "      fill: #1967D2;\n",
              "      height: 32px;\n",
              "      padding: 0 0 0 0;\n",
              "      width: 32px;\n",
              "    }\n",
              "\n",
              "    .colab-df-convert:hover {\n",
              "      background-color: #E2EBFA;\n",
              "      box-shadow: 0px 1px 2px rgba(60, 64, 67, 0.3), 0px 1px 3px 1px rgba(60, 64, 67, 0.15);\n",
              "      fill: #174EA6;\n",
              "    }\n",
              "\n",
              "    .colab-df-buttons div {\n",
              "      margin-bottom: 4px;\n",
              "    }\n",
              "\n",
              "    [theme=dark] .colab-df-convert {\n",
              "      background-color: #3B4455;\n",
              "      fill: #D2E3FC;\n",
              "    }\n",
              "\n",
              "    [theme=dark] .colab-df-convert:hover {\n",
              "      background-color: #434B5C;\n",
              "      box-shadow: 0px 1px 3px 1px rgba(0, 0, 0, 0.15);\n",
              "      filter: drop-shadow(0px 1px 2px rgba(0, 0, 0, 0.3));\n",
              "      fill: #FFFFFF;\n",
              "    }\n",
              "  </style>\n",
              "\n",
              "    <script>\n",
              "      const buttonEl =\n",
              "        document.querySelector('#df-8852c157-4206-4a7d-b34c-94c177dec581 button.colab-df-convert');\n",
              "      buttonEl.style.display =\n",
              "        google.colab.kernel.accessAllowed ? 'block' : 'none';\n",
              "\n",
              "      async function convertToInteractive(key) {\n",
              "        const element = document.querySelector('#df-8852c157-4206-4a7d-b34c-94c177dec581');\n",
              "        const dataTable =\n",
              "          await google.colab.kernel.invokeFunction('convertToInteractive',\n",
              "                                                    [key], {});\n",
              "        if (!dataTable) return;\n",
              "\n",
              "        const docLinkHtml = 'Like what you see? Visit the ' +\n",
              "          '<a target=\"_blank\" href=https://colab.research.google.com/notebooks/data_table.ipynb>data table notebook</a>'\n",
              "          + ' to learn more about interactive tables.';\n",
              "        element.innerHTML = '';\n",
              "        dataTable['output_type'] = 'display_data';\n",
              "        await google.colab.output.renderOutput(dataTable, element);\n",
              "        const docLink = document.createElement('div');\n",
              "        docLink.innerHTML = docLinkHtml;\n",
              "        element.appendChild(docLink);\n",
              "      }\n",
              "    </script>\n",
              "  </div>\n",
              "\n",
              "\n",
              "<div id=\"df-ed2e4910-15aa-4ec9-af36-f15781b44489\">\n",
              "  <button class=\"colab-df-quickchart\" onclick=\"quickchart('df-ed2e4910-15aa-4ec9-af36-f15781b44489')\"\n",
              "            title=\"Suggest charts\"\n",
              "            style=\"display:none;\">\n",
              "\n",
              "<svg xmlns=\"http://www.w3.org/2000/svg\" height=\"24px\"viewBox=\"0 0 24 24\"\n",
              "     width=\"24px\">\n",
              "    <g>\n",
              "        <path d=\"M19 3H5c-1.1 0-2 .9-2 2v14c0 1.1.9 2 2 2h14c1.1 0 2-.9 2-2V5c0-1.1-.9-2-2-2zM9 17H7v-7h2v7zm4 0h-2V7h2v10zm4 0h-2v-4h2v4z\"/>\n",
              "    </g>\n",
              "</svg>\n",
              "  </button>\n",
              "\n",
              "<style>\n",
              "  .colab-df-quickchart {\n",
              "      --bg-color: #E8F0FE;\n",
              "      --fill-color: #1967D2;\n",
              "      --hover-bg-color: #E2EBFA;\n",
              "      --hover-fill-color: #174EA6;\n",
              "      --disabled-fill-color: #AAA;\n",
              "      --disabled-bg-color: #DDD;\n",
              "  }\n",
              "\n",
              "  [theme=dark] .colab-df-quickchart {\n",
              "      --bg-color: #3B4455;\n",
              "      --fill-color: #D2E3FC;\n",
              "      --hover-bg-color: #434B5C;\n",
              "      --hover-fill-color: #FFFFFF;\n",
              "      --disabled-bg-color: #3B4455;\n",
              "      --disabled-fill-color: #666;\n",
              "  }\n",
              "\n",
              "  .colab-df-quickchart {\n",
              "    background-color: var(--bg-color);\n",
              "    border: none;\n",
              "    border-radius: 50%;\n",
              "    cursor: pointer;\n",
              "    display: none;\n",
              "    fill: var(--fill-color);\n",
              "    height: 32px;\n",
              "    padding: 0;\n",
              "    width: 32px;\n",
              "  }\n",
              "\n",
              "  .colab-df-quickchart:hover {\n",
              "    background-color: var(--hover-bg-color);\n",
              "    box-shadow: 0 1px 2px rgba(60, 64, 67, 0.3), 0 1px 3px 1px rgba(60, 64, 67, 0.15);\n",
              "    fill: var(--button-hover-fill-color);\n",
              "  }\n",
              "\n",
              "  .colab-df-quickchart-complete:disabled,\n",
              "  .colab-df-quickchart-complete:disabled:hover {\n",
              "    background-color: var(--disabled-bg-color);\n",
              "    fill: var(--disabled-fill-color);\n",
              "    box-shadow: none;\n",
              "  }\n",
              "\n",
              "  .colab-df-spinner {\n",
              "    border: 2px solid var(--fill-color);\n",
              "    border-color: transparent;\n",
              "    border-bottom-color: var(--fill-color);\n",
              "    animation:\n",
              "      spin 1s steps(1) infinite;\n",
              "  }\n",
              "\n",
              "  @keyframes spin {\n",
              "    0% {\n",
              "      border-color: transparent;\n",
              "      border-bottom-color: var(--fill-color);\n",
              "      border-left-color: var(--fill-color);\n",
              "    }\n",
              "    20% {\n",
              "      border-color: transparent;\n",
              "      border-left-color: var(--fill-color);\n",
              "      border-top-color: var(--fill-color);\n",
              "    }\n",
              "    30% {\n",
              "      border-color: transparent;\n",
              "      border-left-color: var(--fill-color);\n",
              "      border-top-color: var(--fill-color);\n",
              "      border-right-color: var(--fill-color);\n",
              "    }\n",
              "    40% {\n",
              "      border-color: transparent;\n",
              "      border-right-color: var(--fill-color);\n",
              "      border-top-color: var(--fill-color);\n",
              "    }\n",
              "    60% {\n",
              "      border-color: transparent;\n",
              "      border-right-color: var(--fill-color);\n",
              "    }\n",
              "    80% {\n",
              "      border-color: transparent;\n",
              "      border-right-color: var(--fill-color);\n",
              "      border-bottom-color: var(--fill-color);\n",
              "    }\n",
              "    90% {\n",
              "      border-color: transparent;\n",
              "      border-bottom-color: var(--fill-color);\n",
              "    }\n",
              "  }\n",
              "</style>\n",
              "\n",
              "  <script>\n",
              "    async function quickchart(key) {\n",
              "      const quickchartButtonEl =\n",
              "        document.querySelector('#' + key + ' button');\n",
              "      quickchartButtonEl.disabled = true;  // To prevent multiple clicks.\n",
              "      quickchartButtonEl.classList.add('colab-df-spinner');\n",
              "      try {\n",
              "        const charts = await google.colab.kernel.invokeFunction(\n",
              "            'suggestCharts', [key], {});\n",
              "      } catch (error) {\n",
              "        console.error('Error during call to suggestCharts:', error);\n",
              "      }\n",
              "      quickchartButtonEl.classList.remove('colab-df-spinner');\n",
              "      quickchartButtonEl.classList.add('colab-df-quickchart-complete');\n",
              "    }\n",
              "    (() => {\n",
              "      let quickchartButtonEl =\n",
              "        document.querySelector('#df-ed2e4910-15aa-4ec9-af36-f15781b44489 button');\n",
              "      quickchartButtonEl.style.display =\n",
              "        google.colab.kernel.accessAllowed ? 'block' : 'none';\n",
              "    })();\n",
              "  </script>\n",
              "</div>\n",
              "    </div>\n",
              "  </div>\n"
            ]
          },
          "metadata": {},
          "execution_count": 7
        }
      ],
      "source": [
        "# Let's read a CSV file using Pandas as follows\n",
        "banksim_df = pd.read_csv('banksim.csv')\n",
        "banksim_df"
      ]
    },
    {
      "cell_type": "markdown",
      "source": [
        "## **Perform Exploratory Data Analysis (EDA)**"
      ],
      "metadata": {
        "id": "r6kl4ts0RPdL"
      }
    },
    {
      "cell_type": "code",
      "source": [
        "# Obtain a Statistical Summary about the data\n",
        "banksim_df.describe()"
      ],
      "metadata": {
        "colab": {
          "base_uri": "https://localhost:8080/",
          "height": 300
        },
        "id": "0zolO9z1-nxS",
        "outputId": "99676385-2e67-43ad-b7a0-93d1693ac1da"
      },
      "execution_count": null,
      "outputs": [
        {
          "output_type": "execute_result",
          "data": {
            "text/plain": [
              "          Unnamed: 0       amount        fraud\n",
              "count    7200.000000  7200.000000  7200.000000\n",
              "mean   296228.038472    36.981587     0.027778\n",
              "std    172094.972083    40.569355     0.164347\n",
              "min        13.000000     1.099800     0.000000\n",
              "25%    145611.250000    14.430000     0.000000\n",
              "50%    295031.500000    28.020000     0.000000\n",
              "75%    445221.500000    44.215000     0.000000\n",
              "max    594622.000000   236.147400     1.000000"
            ],
            "text/html": [
              "\n",
              "  <div id=\"df-543eec1c-892d-48e2-bc03-796a9e9194a0\" class=\"colab-df-container\">\n",
              "    <div>\n",
              "<style scoped>\n",
              "    .dataframe tbody tr th:only-of-type {\n",
              "        vertical-align: middle;\n",
              "    }\n",
              "\n",
              "    .dataframe tbody tr th {\n",
              "        vertical-align: top;\n",
              "    }\n",
              "\n",
              "    .dataframe thead th {\n",
              "        text-align: right;\n",
              "    }\n",
              "</style>\n",
              "<table border=\"1\" class=\"dataframe\">\n",
              "  <thead>\n",
              "    <tr style=\"text-align: right;\">\n",
              "      <th></th>\n",
              "      <th>Unnamed: 0</th>\n",
              "      <th>amount</th>\n",
              "      <th>fraud</th>\n",
              "    </tr>\n",
              "  </thead>\n",
              "  <tbody>\n",
              "    <tr>\n",
              "      <th>count</th>\n",
              "      <td>7200.000000</td>\n",
              "      <td>7200.000000</td>\n",
              "      <td>7200.000000</td>\n",
              "    </tr>\n",
              "    <tr>\n",
              "      <th>mean</th>\n",
              "      <td>296228.038472</td>\n",
              "      <td>36.981587</td>\n",
              "      <td>0.027778</td>\n",
              "    </tr>\n",
              "    <tr>\n",
              "      <th>std</th>\n",
              "      <td>172094.972083</td>\n",
              "      <td>40.569355</td>\n",
              "      <td>0.164347</td>\n",
              "    </tr>\n",
              "    <tr>\n",
              "      <th>min</th>\n",
              "      <td>13.000000</td>\n",
              "      <td>1.099800</td>\n",
              "      <td>0.000000</td>\n",
              "    </tr>\n",
              "    <tr>\n",
              "      <th>25%</th>\n",
              "      <td>145611.250000</td>\n",
              "      <td>14.430000</td>\n",
              "      <td>0.000000</td>\n",
              "    </tr>\n",
              "    <tr>\n",
              "      <th>50%</th>\n",
              "      <td>295031.500000</td>\n",
              "      <td>28.020000</td>\n",
              "      <td>0.000000</td>\n",
              "    </tr>\n",
              "    <tr>\n",
              "      <th>75%</th>\n",
              "      <td>445221.500000</td>\n",
              "      <td>44.215000</td>\n",
              "      <td>0.000000</td>\n",
              "    </tr>\n",
              "    <tr>\n",
              "      <th>max</th>\n",
              "      <td>594622.000000</td>\n",
              "      <td>236.147400</td>\n",
              "      <td>1.000000</td>\n",
              "    </tr>\n",
              "  </tbody>\n",
              "</table>\n",
              "</div>\n",
              "    <div class=\"colab-df-buttons\">\n",
              "\n",
              "  <div class=\"colab-df-container\">\n",
              "    <button class=\"colab-df-convert\" onclick=\"convertToInteractive('df-543eec1c-892d-48e2-bc03-796a9e9194a0')\"\n",
              "            title=\"Convert this dataframe to an interactive table.\"\n",
              "            style=\"display:none;\">\n",
              "\n",
              "  <svg xmlns=\"http://www.w3.org/2000/svg\" height=\"24px\" viewBox=\"0 -960 960 960\">\n",
              "    <path d=\"M120-120v-720h720v720H120Zm60-500h600v-160H180v160Zm220 220h160v-160H400v160Zm0 220h160v-160H400v160ZM180-400h160v-160H180v160Zm440 0h160v-160H620v160ZM180-180h160v-160H180v160Zm440 0h160v-160H620v160Z\"/>\n",
              "  </svg>\n",
              "    </button>\n",
              "\n",
              "  <style>\n",
              "    .colab-df-container {\n",
              "      display:flex;\n",
              "      gap: 12px;\n",
              "    }\n",
              "\n",
              "    .colab-df-convert {\n",
              "      background-color: #E8F0FE;\n",
              "      border: none;\n",
              "      border-radius: 50%;\n",
              "      cursor: pointer;\n",
              "      display: none;\n",
              "      fill: #1967D2;\n",
              "      height: 32px;\n",
              "      padding: 0 0 0 0;\n",
              "      width: 32px;\n",
              "    }\n",
              "\n",
              "    .colab-df-convert:hover {\n",
              "      background-color: #E2EBFA;\n",
              "      box-shadow: 0px 1px 2px rgba(60, 64, 67, 0.3), 0px 1px 3px 1px rgba(60, 64, 67, 0.15);\n",
              "      fill: #174EA6;\n",
              "    }\n",
              "\n",
              "    .colab-df-buttons div {\n",
              "      margin-bottom: 4px;\n",
              "    }\n",
              "\n",
              "    [theme=dark] .colab-df-convert {\n",
              "      background-color: #3B4455;\n",
              "      fill: #D2E3FC;\n",
              "    }\n",
              "\n",
              "    [theme=dark] .colab-df-convert:hover {\n",
              "      background-color: #434B5C;\n",
              "      box-shadow: 0px 1px 3px 1px rgba(0, 0, 0, 0.15);\n",
              "      filter: drop-shadow(0px 1px 2px rgba(0, 0, 0, 0.3));\n",
              "      fill: #FFFFFF;\n",
              "    }\n",
              "  </style>\n",
              "\n",
              "    <script>\n",
              "      const buttonEl =\n",
              "        document.querySelector('#df-543eec1c-892d-48e2-bc03-796a9e9194a0 button.colab-df-convert');\n",
              "      buttonEl.style.display =\n",
              "        google.colab.kernel.accessAllowed ? 'block' : 'none';\n",
              "\n",
              "      async function convertToInteractive(key) {\n",
              "        const element = document.querySelector('#df-543eec1c-892d-48e2-bc03-796a9e9194a0');\n",
              "        const dataTable =\n",
              "          await google.colab.kernel.invokeFunction('convertToInteractive',\n",
              "                                                    [key], {});\n",
              "        if (!dataTable) return;\n",
              "\n",
              "        const docLinkHtml = 'Like what you see? Visit the ' +\n",
              "          '<a target=\"_blank\" href=https://colab.research.google.com/notebooks/data_table.ipynb>data table notebook</a>'\n",
              "          + ' to learn more about interactive tables.';\n",
              "        element.innerHTML = '';\n",
              "        dataTable['output_type'] = 'display_data';\n",
              "        await google.colab.output.renderOutput(dataTable, element);\n",
              "        const docLink = document.createElement('div');\n",
              "        docLink.innerHTML = docLinkHtml;\n",
              "        element.appendChild(docLink);\n",
              "      }\n",
              "    </script>\n",
              "  </div>\n",
              "\n",
              "\n",
              "<div id=\"df-b3cf57dc-96de-4832-87a6-bdeffb2e9596\">\n",
              "  <button class=\"colab-df-quickchart\" onclick=\"quickchart('df-b3cf57dc-96de-4832-87a6-bdeffb2e9596')\"\n",
              "            title=\"Suggest charts\"\n",
              "            style=\"display:none;\">\n",
              "\n",
              "<svg xmlns=\"http://www.w3.org/2000/svg\" height=\"24px\"viewBox=\"0 0 24 24\"\n",
              "     width=\"24px\">\n",
              "    <g>\n",
              "        <path d=\"M19 3H5c-1.1 0-2 .9-2 2v14c0 1.1.9 2 2 2h14c1.1 0 2-.9 2-2V5c0-1.1-.9-2-2-2zM9 17H7v-7h2v7zm4 0h-2V7h2v10zm4 0h-2v-4h2v4z\"/>\n",
              "    </g>\n",
              "</svg>\n",
              "  </button>\n",
              "\n",
              "<style>\n",
              "  .colab-df-quickchart {\n",
              "      --bg-color: #E8F0FE;\n",
              "      --fill-color: #1967D2;\n",
              "      --hover-bg-color: #E2EBFA;\n",
              "      --hover-fill-color: #174EA6;\n",
              "      --disabled-fill-color: #AAA;\n",
              "      --disabled-bg-color: #DDD;\n",
              "  }\n",
              "\n",
              "  [theme=dark] .colab-df-quickchart {\n",
              "      --bg-color: #3B4455;\n",
              "      --fill-color: #D2E3FC;\n",
              "      --hover-bg-color: #434B5C;\n",
              "      --hover-fill-color: #FFFFFF;\n",
              "      --disabled-bg-color: #3B4455;\n",
              "      --disabled-fill-color: #666;\n",
              "  }\n",
              "\n",
              "  .colab-df-quickchart {\n",
              "    background-color: var(--bg-color);\n",
              "    border: none;\n",
              "    border-radius: 50%;\n",
              "    cursor: pointer;\n",
              "    display: none;\n",
              "    fill: var(--fill-color);\n",
              "    height: 32px;\n",
              "    padding: 0;\n",
              "    width: 32px;\n",
              "  }\n",
              "\n",
              "  .colab-df-quickchart:hover {\n",
              "    background-color: var(--hover-bg-color);\n",
              "    box-shadow: 0 1px 2px rgba(60, 64, 67, 0.3), 0 1px 3px 1px rgba(60, 64, 67, 0.15);\n",
              "    fill: var(--button-hover-fill-color);\n",
              "  }\n",
              "\n",
              "  .colab-df-quickchart-complete:disabled,\n",
              "  .colab-df-quickchart-complete:disabled:hover {\n",
              "    background-color: var(--disabled-bg-color);\n",
              "    fill: var(--disabled-fill-color);\n",
              "    box-shadow: none;\n",
              "  }\n",
              "\n",
              "  .colab-df-spinner {\n",
              "    border: 2px solid var(--fill-color);\n",
              "    border-color: transparent;\n",
              "    border-bottom-color: var(--fill-color);\n",
              "    animation:\n",
              "      spin 1s steps(1) infinite;\n",
              "  }\n",
              "\n",
              "  @keyframes spin {\n",
              "    0% {\n",
              "      border-color: transparent;\n",
              "      border-bottom-color: var(--fill-color);\n",
              "      border-left-color: var(--fill-color);\n",
              "    }\n",
              "    20% {\n",
              "      border-color: transparent;\n",
              "      border-left-color: var(--fill-color);\n",
              "      border-top-color: var(--fill-color);\n",
              "    }\n",
              "    30% {\n",
              "      border-color: transparent;\n",
              "      border-left-color: var(--fill-color);\n",
              "      border-top-color: var(--fill-color);\n",
              "      border-right-color: var(--fill-color);\n",
              "    }\n",
              "    40% {\n",
              "      border-color: transparent;\n",
              "      border-right-color: var(--fill-color);\n",
              "      border-top-color: var(--fill-color);\n",
              "    }\n",
              "    60% {\n",
              "      border-color: transparent;\n",
              "      border-right-color: var(--fill-color);\n",
              "    }\n",
              "    80% {\n",
              "      border-color: transparent;\n",
              "      border-right-color: var(--fill-color);\n",
              "      border-bottom-color: var(--fill-color);\n",
              "    }\n",
              "    90% {\n",
              "      border-color: transparent;\n",
              "      border-bottom-color: var(--fill-color);\n",
              "    }\n",
              "  }\n",
              "</style>\n",
              "\n",
              "  <script>\n",
              "    async function quickchart(key) {\n",
              "      const quickchartButtonEl =\n",
              "        document.querySelector('#' + key + ' button');\n",
              "      quickchartButtonEl.disabled = true;  // To prevent multiple clicks.\n",
              "      quickchartButtonEl.classList.add('colab-df-spinner');\n",
              "      try {\n",
              "        const charts = await google.colab.kernel.invokeFunction(\n",
              "            'suggestCharts', [key], {});\n",
              "      } catch (error) {\n",
              "        console.error('Error during call to suggestCharts:', error);\n",
              "      }\n",
              "      quickchartButtonEl.classList.remove('colab-df-spinner');\n",
              "      quickchartButtonEl.classList.add('colab-df-quickchart-complete');\n",
              "    }\n",
              "    (() => {\n",
              "      let quickchartButtonEl =\n",
              "        document.querySelector('#df-b3cf57dc-96de-4832-87a6-bdeffb2e9596 button');\n",
              "      quickchartButtonEl.style.display =\n",
              "        google.colab.kernel.accessAllowed ? 'block' : 'none';\n",
              "    })();\n",
              "  </script>\n",
              "</div>\n",
              "    </div>\n",
              "  </div>\n"
            ]
          },
          "metadata": {},
          "execution_count": 2
        }
      ]
    },
    {
      "cell_type": "code",
      "source": [
        "# Obtain the summary of the dataframe data types\n",
        "banksim_df.info()"
      ],
      "metadata": {
        "colab": {
          "base_uri": "https://localhost:8080/"
        },
        "id": "vnjJtpl8O0J3",
        "outputId": "4e18f362-6c59-49ec-bf70-e6edf54ebbef"
      },
      "execution_count": null,
      "outputs": [
        {
          "output_type": "stream",
          "name": "stdout",
          "text": [
            "<class 'pandas.core.frame.DataFrame'>\n",
            "RangeIndex: 7200 entries, 0 to 7199\n",
            "Data columns (total 6 columns):\n",
            " #   Column      Non-Null Count  Dtype  \n",
            "---  ------      --------------  -----  \n",
            " 0   Unnamed: 0  7200 non-null   int64  \n",
            " 1   age         7200 non-null   object \n",
            " 2   gender      7200 non-null   object \n",
            " 3   category    7200 non-null   object \n",
            " 4   amount      7200 non-null   float64\n",
            " 5   fraud       7200 non-null   int64  \n",
            "dtypes: float64(1), int64(2), object(3)\n",
            "memory usage: 337.6+ KB\n"
          ]
        }
      ]
    },
    {
      "cell_type": "markdown",
      "source": [
        "## **Practice Opportunity 1: Customer Segmentation**\n",
        "\n",
        "In this exercise, you will analyze client trends in the dataset to determine if data segmentation into distinct groups is necessary, or if the dataset exhibits homogeneity.\n",
        "Unfortunately, the dataset provides limited client information, such as wealth levels. However, it does include age data, which will be the focus of our analysis to discern behavioral differences across age groups.\n",
        "\n",
        "Instructions:\n",
        "- Import the Pandas library and use it to read the dataset from a CSV file.\n",
        "- Store the resulting dataframe in banksim_df\n",
        "- Obtain a statistical overview of the dataset to familiarize yourself with its characteristics.\n",
        "- Group the data by the 'category' column and calculate the mean for each group. This will give insights into the average behavior per category.\n",
        "- Group the dataset by the 'age' column and calculate the mean for each age group to understand average behaviors.\n",
        "- Use value_counts() on the 'age' column to assess the age distribution within the dataset.\n"
      ],
      "metadata": {
        "id": "3ZZvI7RqQW8g"
      }
    },
    {
      "cell_type": "code",
      "source": [
        "# Group by categories and take the mean of only numeric columns\n",
        "print(banksim_df.groupby('category').mean(numeric_only=True))"
      ],
      "metadata": {
        "colab": {
          "base_uri": "https://localhost:8080/"
        },
        "id": "FYYUtZbl_EEl",
        "outputId": "12a1b0c4-753b-419b-dbda-a01372f45d38"
      },
      "execution_count": 8,
      "outputs": [
        {
          "output_type": "stream",
          "name": "stdout",
          "text": [
            "                          Unnamed: 0      amount     fraud\n",
            "category                                                  \n",
            "es_barsandrestaurants  267372.707865   43.841793  0.022472\n",
            "es_contents            335906.153846   55.170000  0.000000\n",
            "es_fashion             286952.226804   59.780769  0.020619\n",
            "es_food                334978.976190   35.216050  0.000000\n",
            "es_health              335355.176955  126.604704  0.242798\n",
            "es_home                248312.583333  120.688317  0.208333\n",
            "es_hotelservices       280138.548387  172.756245  0.548387\n",
            "es_hyper               244440.712500   46.788180  0.125000\n",
            "es_leisure             186541.307692  229.757600  1.000000\n",
            "es_otherservices       241279.000000  149.648960  0.600000\n",
            "es_sportsandtoys       238775.539474  157.251737  0.657895\n",
            "es_tech                310473.948718  132.852862  0.179487\n",
            "es_transportation      295733.881674   27.422014  0.000000\n",
            "es_travel              338897.777778  231.818656  0.944444\n",
            "es_wellnessandbeauty   275085.979798   66.167078  0.060606\n"
          ]
        }
      ]
    },
    {
      "cell_type": "code",
      "source": [
        "# Count the values of the observations in each age group\n",
        "print(banksim_df['category'].value_counts())"
      ],
      "metadata": {
        "colab": {
          "base_uri": "https://localhost:8080/"
        },
        "id": "JRJgmSM9Ot-Y",
        "outputId": "d0a5e970-6fa6-4e1c-c0d3-fa6bdf5afc84"
      },
      "execution_count": null,
      "outputs": [
        {
          "output_type": "stream",
          "name": "stdout",
          "text": [
            "es_transportation        5975\n",
            "es_food                   294\n",
            "es_health                 243\n",
            "es_wellnessandbeauty      198\n",
            "es_fashion                 97\n",
            "es_barsandrestaurants      89\n",
            "es_hyper                   80\n",
            "es_sportsandtoys           76\n",
            "es_tech                    39\n",
            "es_hotelservices           31\n",
            "es_home                    24\n",
            "es_travel                  18\n",
            "es_contents                13\n",
            "es_leisure                 13\n",
            "es_otherservices           10\n",
            "Name: category, dtype: int64\n"
          ]
        }
      ]
    },
    {
      "cell_type": "code",
      "source": [
        "# Group by age groups and get the mean of only numeric columns\n",
        "print(banksim_df.groupby('age').mean(numeric_only=True))"
      ],
      "metadata": {
        "colab": {
          "base_uri": "https://localhost:8080/"
        },
        "id": "L-fjs-xxALFq",
        "outputId": "3a2efef4-1088-4440-ea63-d38ff11d39b8"
      },
      "execution_count": 9,
      "outputs": [
        {
          "output_type": "stream",
          "name": "stdout",
          "text": [
            "        Unnamed: 0     amount     fraud\n",
            "age                                    \n",
            "0    327520.450000  49.468935  0.050000\n",
            "1    290985.509116  35.622829  0.026648\n",
            "2    296867.958851  37.228665  0.028718\n",
            "3    291471.417346  37.279338  0.023283\n",
            "4    306041.396403  36.197985  0.035966\n",
            "5    290885.960859  37.547521  0.023990\n",
            "6    299193.716561  36.700852  0.022293\n",
            "U    288372.181818  39.117000  0.000000\n"
          ]
        }
      ]
    },
    {
      "cell_type": "code",
      "source": [
        "# Count the values of the observations in each age group\n",
        "print(banksim_df['age'].value_counts())\n"
      ],
      "metadata": {
        "colab": {
          "base_uri": "https://localhost:8080/"
        },
        "id": "w2ljx8cqAUMq",
        "outputId": "dff794f3-0a65-4c21-c1a8-c181015cf171"
      },
      "execution_count": null,
      "outputs": [
        {
          "output_type": "stream",
          "name": "stdout",
          "text": [
            " 2       2333\n",
            " 3       1718\n",
            " 4       1279\n",
            " 5        792\n",
            " 1        713\n",
            " 6        314\n",
            " -         40\n",
            " U         11\n",
            "Name: age, dtype: int64\n"
          ]
        }
      ]
    },
    {
      "cell_type": "markdown",
      "source": [
        "## **Practice Opportunity 2: Examining Statistics to Identify Normal Behavior:**\n",
        "\n",
        "In the previous exercises, you discovered that fraud is more common in specific transaction categories, but there wasn't a clear way to segment our data, such as by age groups. Now, let's explore the average amounts spent in normal transactions compared to fraudulent transactions. This will help you understand how fraudulent transactions structurally differ from normal transactions.\n",
        "\n",
        "- Make two new dataframes: one for fraud observations and one for non-fraud observations. To create the additional dataframes, use.loc to locate the data in the df DataFrame and set criteria \"where fraud is 1\" and \"where fraud is 0\".\n",
        "\n",
        "- Plot the amount column of the newly produced dataframes using histogram plot functions and label the plots 'fraud' and 'non fraud'.\n"
      ],
      "metadata": {
        "id": "0omb8QT_LULu"
      }
    },
    {
      "cell_type": "code",
      "source": [
        "import matplotlib.pyplot as plt\n",
        "\n",
        "# Create two dataframes with fraud and non-fraud data\n",
        "banksim_df_fraud = banksim_df.loc[banksim_df['fraud'] == 1]\n",
        "banksim_df_non_fraud = banksim_df.loc[banksim_df['fraud'] == 0]\n",
        "\n",
        "# Adjusting the histogram with different colors for clarity\n",
        "plt.hist(banksim_df_fraud['amount'], alpha=0.5, label='Fraud', bins=30, color='red')\n",
        "plt.hist(banksim_df_non_fraud['amount'], alpha=0.5, label='Non-Fraud', bins=30, color='blue')\n",
        "plt.xlabel('Amount')\n",
        "plt.ylabel('Frequency')\n",
        "plt.legend()\n",
        "plt.title('Transaction Amounts: Fraud vs Non-Fraud')\n",
        "plt.show()\n"
      ],
      "metadata": {
        "colab": {
          "base_uri": "https://localhost:8080/",
          "height": 472
        },
        "id": "sCorwy0QaO46",
        "outputId": "2dea7c99-7fb9-4488-f707-f50fe55ebe23"
      },
      "execution_count": null,
      "outputs": [
        {
          "output_type": "display_data",
          "data": {
            "text/plain": [
              "<Figure size 640x480 with 1 Axes>"
            ],
            "image/png": "[encoded data removed]"
          },
          "metadata": {}
        }
      ]
    },
    {
      "cell_type": "markdown",
      "source": [],
      "metadata": {
        "id": "SMdOf7uY5ruW"
      }
    },
    {
      "cell_type": "markdown",
      "source": [
        "# **Clustering for Fraud Detection**"
      ],
      "metadata": {
        "id": "thjKWLcC5sjm"
      }
    },
    {
      "cell_type": "markdown",
      "source": [
        "## **Practice Opportunity 3: Task 1: Scaling the Data**"
      ],
      "metadata": {
        "id": "d8f5rXFii2I6"
      }
    },
    {
      "cell_type": "markdown",
      "source": [],
      "metadata": {
        "id": "omnDdoA-i5SO"
      }
    },
    {
      "cell_type": "markdown",
      "source": [
        "**Scaling the data:**\n",
        "\n",
        "For ML algorithms using distance based metrics, it is crucial to always scale your data, as features using different scales will distort your results. K-means uses the Euclidian distance to assess distance to cluster centroids, therefore you first need to scale your data before continuing to implement the algorithm. Let's do that first.\n",
        "\n",
        "Available is the dataframe df from the previous exercise, with some minor data preparation done so it is ready for you to use with sklearn. The fraud labels are separately stored under labels, you can use those to check the results later. numpy has been imported as np.\n",
        "\n",
        "- Import the MinMaxScaler.\n",
        "- Transform your dataframe df into a numpy array X by taking only the values of df and make sure you have all float values.\n",
        "- Apply the defined scaler onto X to obtain scaled values of X_scaled to force all your features to a 0-1 scale."
      ],
      "metadata": {
        "id": "u8mmbWaKFNaH"
      }
    },
    {
      "cell_type": "code",
      "source": [
        "# Import the scaler and numpy libraries\n",
        "from sklearn.preprocessing import MinMaxScaler\n",
        "import numpy as np\n",
        "\n",
        "# Let's read a CSV file using Pandas as follows\n",
        "banksim_df = pd.read_csv('banksim.csv')\n",
        "\n",
        "# Filter only numeric columns\n",
        "numeric_columns = banksim_df.select_dtypes(include=[np.number]).columns\n",
        "numeric_df = banksim_df[numeric_columns]\n",
        "\n",
        "# Convert the dataframe to a numpy array of type float\n",
        "X = numeric_df.values.astype(float)\n",
        "\n",
        "# Instantiate the scaler\n",
        "scaler = MinMaxScaler()\n",
        "\n",
        "# Apply the scaler to the data\n",
        "X_scaled = scaler.fit_transform(X)\n"
      ],
      "metadata": {
        "id": "VoDODbv6daPL"
      },
      "execution_count": 10,
      "outputs": []
    },
    {
      "cell_type": "markdown",
      "source": [
        "## **Practice Opportunity 3: Task 2: K-means Clustering**"
      ],
      "metadata": {
        "id": "WivkbOytjAhV"
      }
    },
    {
      "cell_type": "markdown",
      "source": [
        "**K-means clustering**\n",
        "\n",
        "A very commonly used clustering algorithm is **K-means clustering**. For fraud detection, K-means clustering is straightforward to implement and relatively powerful in predicting suspicious cases. It is a good algorithm to start with when working on fraud detection problems. However, fraud data is oftentimes very large, especially when you are working with transaction data. **MiniBatch K-means**is an **efficient** way to implement K-means on a large dataset, which you will use in this exercise.\n",
        "\n",
        "The scaled data from the previous exercise, X_scaled is available. Let's give it a try.\n",
        "\n",
        "1.\tImport MiniBatchKMeans from sklearn.cluster.\n",
        "2.\tInitialize the MiniBatch K-means model, specifying 8 clusters. Set a random state for reproducibility if desired.\n",
        "3.\tFit the model to the scaled data, X_scaled.\n"
      ],
      "metadata": {
        "id": "R4gK5AzbF_8L"
      }
    },
    {
      "cell_type": "code",
      "source": [
        "from sklearn.cluster import MiniBatchKMeans\n",
        "\n",
        "# Initialize MiniBatch K-means model with 8 clusters and explicitly set n_init\n",
        "kmeans = MiniBatchKMeans(n_clusters=8, n_init=3, random_state=0)  # Change n_init to 'auto' if you prefer\n",
        "\n",
        "# Fit the model to the scaled data\n",
        "kmeans.fit(X_scaled)\n"
      ],
      "metadata": {
        "colab": {
          "base_uri": "https://localhost:8080/",
          "height": 74
        },
        "id": "aeT2QU3md24F",
        "outputId": "ad3801e5-1316-47a3-863a-1a924c368288"
      },
      "execution_count": 11,
      "outputs": [
        {
          "output_type": "execute_result",
          "data": {
            "text/plain": [
              "MiniBatchKMeans(n_init=3, random_state=0)"
            ],
            "text/html": [
              "<style>#sk-container-id-1 {color: black;background-color: white;}#sk-container-id-1 pre{padding: 0;}#sk-container-id-1 div.sk-toggleable {background-color: white;}#sk-container-id-1 label.sk-toggleable__label {cursor: pointer;display: block;width: 100%;margin-bottom: 0;padding: 0.3em;box-sizing: border-box;text-align: center;}#sk-container-id-1 label.sk-toggleable__label-arrow:before {content: \"▸\";float: left;margin-right: 0.25em;color: #696969;}#sk-container-id-1 label.sk-toggleable__label-arrow:hover:before {color: black;}#sk-container-id-1 div.sk-estimator:hover label.sk-toggleable__label-arrow:before {color: black;}#sk-container-id-1 div.sk-toggleable__content {max-height: 0;max-width: 0;overflow: hidden;text-align: left;background-color: #f0f8ff;}#sk-container-id-1 div.sk-toggleable__content pre {margin: 0.2em;color: black;border-radius: 0.25em;background-color: #f0f8ff;}#sk-container-id-1 input.sk-toggleable__control:checked~div.sk-toggleable__content {max-height: 200px;max-width: 100%;overflow: auto;}#sk-container-id-1 input.sk-toggleable__control:checked~label.sk-toggleable__label-arrow:before {content: \"▾\";}#sk-container-id-1 div.sk-estimator input.sk-toggleable__control:checked~label.sk-toggleable__label {background-color: #d4ebff;}#sk-container-id-1 div.sk-label input.sk-toggleable__control:checked~label.sk-toggleable__label {background-color: #d4ebff;}#sk-container-id-1 input.sk-hidden--visually {border: 0;clip: rect(1px 1px 1px 1px);clip: rect(1px, 1px, 1px, 1px);height: 1px;margin: -1px;overflow: hidden;padding: 0;position: absolute;width: 1px;}#sk-container-id-1 div.sk-estimator {font-family: monospace;background-color: #f0f8ff;border: 1px dotted black;border-radius: 0.25em;box-sizing: border-box;margin-bottom: 0.5em;}#sk-container-id-1 div.sk-estimator:hover {background-color: #d4ebff;}#sk-container-id-1 div.sk-parallel-item::after {content: \"\";width: 100%;border-bottom: 1px solid gray;flex-grow: 1;}#sk-container-id-1 div.sk-label:hover label.sk-toggleable__label {background-color: #d4ebff;}#sk-container-id-1 div.sk-serial::before {content: \"\";position: absolute;border-left: 1px solid gray;box-sizing: border-box;top: 0;bottom: 0;left: 50%;z-index: 0;}#sk-container-id-1 div.sk-serial {display: flex;flex-direction: column;align-items: center;background-color: white;padding-right: 0.2em;padding-left: 0.2em;position: relative;}#sk-container-id-1 div.sk-item {position: relative;z-index: 1;}#sk-container-id-1 div.sk-parallel {display: flex;align-items: stretch;justify-content: center;background-color: white;position: relative;}#sk-container-id-1 div.sk-item::before, #sk-container-id-1 div.sk-parallel-item::before {content: \"\";position: absolute;border-left: 1px solid gray;box-sizing: border-box;top: 0;bottom: 0;left: 50%;z-index: -1;}#sk-container-id-1 div.sk-parallel-item {display: flex;flex-direction: column;z-index: 1;position: relative;background-color: white;}#sk-container-id-1 div.sk-parallel-item:first-child::after {align-self: flex-end;width: 50%;}#sk-container-id-1 div.sk-parallel-item:last-child::after {align-self: flex-start;width: 50%;}#sk-container-id-1 div.sk-parallel-item:only-child::after {width: 0;}#sk-container-id-1 div.sk-dashed-wrapped {border: 1px dashed gray;margin: 0 0.4em 0.5em 0.4em;box-sizing: border-box;padding-bottom: 0.4em;background-color: white;}#sk-container-id-1 div.sk-label label {font-family: monospace;font-weight: bold;display: inline-block;line-height: 1.2em;}#sk-container-id-1 div.sk-label-container {text-align: center;}#sk-container-id-1 div.sk-container {/* jupyter's `normalize.less` sets `[hidden] { display: none; }` but bootstrap.min.css set `[hidden] { display: none !important; }` so we also need the `!important` here to be able to override the default hidden behavior on the sphinx rendered scikit-learn.org. See: https://github.com/scikit-learn/scikit-learn/issues/21755 */display: inline-block !important;position: relative;}#sk-container-id-1 div.sk-text-repr-fallback {display: none;}</style><div id=\"sk-container-id-1\" class=\"sk-top-container\"><div class=\"sk-text-repr-fallback\"><pre>MiniBatchKMeans(n_init=3, random_state=0)</pre><b>In a Jupyter environment, please rerun this cell to show the HTML representation or trust the notebook. <br />On GitHub, the HTML representation is unable to render, please try loading this page with nbviewer.org.</b></div><div class=\"sk-container\" hidden><div class=\"sk-item\"><div class=\"sk-estimator sk-toggleable\"><input class=\"sk-toggleable__control sk-hidden--visually\" id=\"sk-estimator-id-1\" type=\"checkbox\" checked><label for=\"sk-estimator-id-1\" class=\"sk-toggleable__label sk-toggleable__label-arrow\">MiniBatchKMeans</label><div class=\"sk-toggleable__content\"><pre>MiniBatchKMeans(n_init=3, random_state=0)</pre></div></div></div></div></div>"
            ]
          },
          "metadata": {},
          "execution_count": 11
        }
      ]
    },
    {
      "cell_type": "markdown",
      "source": [
        "## **Practice Opportunity 3: Task 3: Elbow Method**"
      ],
      "metadata": {
        "id": "ofxczkq3jJ3z"
      }
    },
    {
      "cell_type": "markdown",
      "source": [
        "**Elbow method:**\n",
        "\n",
        "In the previous exercise you've implemented MiniBatch K-means with 8 clusters, without actually checking what the right amount of clusters should be. For our first fraud detection approach, it is important to **get the number of clusters** right, especially when you want to use the outliers of those clusters as fraud predictions. To decide which amount of clusters you're going to use, let's apply the **Elbow method** and see what the optimal number of clusters should be based on this method.\n",
        "\n",
        "**X_scaled** is again available for you to use and **MiniBatchKMeans** has been imported from **sklearn**.\n",
        "\n",
        "- Define the range to be between 1 and 5 clusters.\n",
        "- Run MiniBatch K-means on all the clusters in the range using list comprehension.\n",
        "- Fit each model on the scaled data and obtain the scores from the scaled data.\n",
        "- Plot the cluster numbers and their respective scores, it will take a few seconds to run."
      ],
      "metadata": {
        "id": "v3etFhyQIQ4H"
      }
    },
    {
      "cell_type": "code",
      "source": [
        "import matplotlib.pyplot as plt\n",
        "from sklearn.cluster import MiniBatchKMeans\n",
        "\n",
        "# Define the range of clusters to try\n",
        "clustno = range(1, 6)  # Adjusted to include 5 clusters\n",
        "\n",
        "# Create MiniBatch K-means models for each number of clusters, setting n_init explicitly\n",
        "kmeans = [MiniBatchKMeans(n_clusters=i, n_init=3, random_state=0) for i in clustno]\n",
        "\n",
        "# Fit each model and calculate the score\n",
        "score = [kmeans[i].fit(X_scaled).score(X_scaled) for i in range(len(kmeans))]\n",
        "\n",
        "# Plot the Elbow Curve\n",
        "plt.plot(clustno, score)\n",
        "plt.xlabel('Number of Clusters')\n",
        "plt.ylabel('Score')\n",
        "plt.title('Elbow Curve')\n",
        "plt.show()\n"
      ],
      "metadata": {
        "colab": {
          "base_uri": "https://localhost:8080/",
          "height": 472
        },
        "id": "dWsmua81fR7B",
        "outputId": "f5a4fd62-f57f-4eeb-c311-7237c5daf953"
      },
      "execution_count": 12,
      "outputs": [
        {
          "output_type": "display_data",
          "data": {
            "text/plain": [
              "<Figure size 640x480 with 1 Axes>"
            ],
            "image/png": "[encoded data removed]"
          },
          "metadata": {}
        }
      ]
    },
    {
      "cell_type": "markdown",
      "source": [
        "## **Optional: Testing Your Knowledge: Apply the Elbow Method using the KMeans algorithm from the scikit-learn library:**"
      ],
      "metadata": {
        "id": "Kj6RZkj95uh-"
      }
    },
    {
      "cell_type": "code",
      "source": [
        "import pandas as pd\n",
        "import numpy as np\n",
        "import seaborn as sns\n",
        "import matplotlib.pyplot as plt\n",
        "from sklearn.cluster import KMeans\n",
        "from sklearn.impute import SimpleImputer\n"
      ],
      "metadata": {
        "id": "skc9uEHmemkk"
      },
      "execution_count": null,
      "outputs": []
    },
    {
      "cell_type": "code",
      "source": [
        "creditcard_df = pd.read_csv('credit_card.csv')"
      ],
      "metadata": {
        "id": "SuOYSwEX-TRf"
      },
      "execution_count": null,
      "outputs": []
    },
    {
      "cell_type": "code",
      "source": [
        "# Check the shape of the dataframe\n",
        "creditcard_df.shape"
      ],
      "metadata": {
        "colab": {
          "base_uri": "https://localhost:8080/"
        },
        "id": "4y0N8_7T-FKA",
        "outputId": "ad9e7837-c56c-415e-827d-eb63dddced3d"
      },
      "execution_count": null,
      "outputs": [
        {
          "output_type": "execute_result",
          "data": {
            "text/plain": [
              "(8950, 18)"
            ]
          },
          "metadata": {},
          "execution_count": 69
        }
      ]
    },
    {
      "cell_type": "code",
      "source": [
        "# Display the feature columns\n",
        "creditcard_df.columns"
      ],
      "metadata": {
        "colab": {
          "base_uri": "https://localhost:8080/"
        },
        "id": "Lirx8oJ_99ZD",
        "outputId": "cb14d404-48b6-4547-a70a-06ff67e1db8f"
      },
      "execution_count": null,
      "outputs": [
        {
          "output_type": "execute_result",
          "data": {
            "text/plain": [
              "Index(['CUST_ID', 'BALANCE', 'BALANCE_FREQUENCY', 'PURCHASES',\n",
              "       'ONEOFF_PURCHASES', 'INSTALLMENTS_PURCHASES', 'CASH_ADVANCE',\n",
              "       'PURCHASES_FREQUENCY', 'ONEOFF_PURCHASES_FREQUENCY',\n",
              "       'PURCHASES_INSTALLMENTS_FREQUENCY', 'CASH_ADVANCE_FREQUENCY',\n",
              "       'CASH_ADVANCE_TRX', 'PURCHASES_TRX', 'CREDIT_LIMIT', 'PAYMENTS',\n",
              "       'MINIMUM_PAYMENTS', 'PRC_FULL_PAYMENT', 'TENURE'],\n",
              "      dtype='object')"
            ]
          },
          "metadata": {},
          "execution_count": 70
        }
      ]
    },
    {
      "cell_type": "code",
      "source": [
        "# Obtain the summary of the dataframe data types\n",
        "creditcard_df.info()"
      ],
      "metadata": {
        "colab": {
          "base_uri": "https://localhost:8080/"
        },
        "id": "OFUwuAFz-BH2",
        "outputId": "f39fe28d-95c5-43f5-d6ae-d06a1739ba53"
      },
      "execution_count": null,
      "outputs": [
        {
          "output_type": "stream",
          "name": "stdout",
          "text": [
            "<class 'pandas.core.frame.DataFrame'>\n",
            "RangeIndex: 8950 entries, 0 to 8949\n",
            "Data columns (total 18 columns):\n",
            " #   Column                            Non-Null Count  Dtype  \n",
            "---  ------                            --------------  -----  \n",
            " 0   CUST_ID                           8950 non-null   object \n",
            " 1   BALANCE                           8950 non-null   float64\n",
            " 2   BALANCE_FREQUENCY                 8950 non-null   float64\n",
            " 3   PURCHASES                         8950 non-null   float64\n",
            " 4   ONEOFF_PURCHASES                  8950 non-null   float64\n",
            " 5   INSTALLMENTS_PURCHASES            8950 non-null   float64\n",
            " 6   CASH_ADVANCE                      8950 non-null   float64\n",
            " 7   PURCHASES_FREQUENCY               8950 non-null   float64\n",
            " 8   ONEOFF_PURCHASES_FREQUENCY        8950 non-null   float64\n",
            " 9   PURCHASES_INSTALLMENTS_FREQUENCY  8950 non-null   float64\n",
            " 10  CASH_ADVANCE_FREQUENCY            8950 non-null   float64\n",
            " 11  CASH_ADVANCE_TRX                  8950 non-null   int64  \n",
            " 12  PURCHASES_TRX                     8950 non-null   int64  \n",
            " 13  CREDIT_LIMIT                      8949 non-null   float64\n",
            " 14  PAYMENTS                          8950 non-null   float64\n",
            " 15  MINIMUM_PAYMENTS                  8637 non-null   float64\n",
            " 16  PRC_FULL_PAYMENT                  8950 non-null   float64\n",
            " 17  TENURE                            8950 non-null   int64  \n",
            "dtypes: float64(14), int64(3), object(1)\n",
            "memory usage: 1.2+ MB\n"
          ]
        }
      ]
    },
    {
      "cell_type": "markdown",
      "source": [
        "**The DataFrame contains a total of 18 columns and 8,950 entries. The data types and their counts are as follows:**\n",
        "\n",
        "- Object Type Column: 1 column: This column is typically for categorical or string data.\n",
        "\n",
        "- Float Type Columns: 14 columns: These columns generally represent quantitative aspects and continuous variables.\n",
        "\n",
        "- Integer Type Columns: 3 columns: These columns likely represent counts or other integer-valued data.\n",
        "\n",
        "***Regarding missing values in the dataset:***\n",
        "\n",
        "**Missing Values:** There is 1 missing value in the CREDIT_LIMIT column.\n",
        "There are 313 missing values in the MINIMUM_PAYMENTS column.\n",
        "The dataset is predominantly complete with most columns having no missing values, indicating a high degree of data completeness with only a few missing entries in the two aforementioned columns."
      ],
      "metadata": {
        "id": "9n4cX76kWVqN"
      }
    },
    {
      "cell_type": "code",
      "source": [
        "print(creditcard_df.isnull().sum())"
      ],
      "metadata": {
        "colab": {
          "base_uri": "https://localhost:8080/"
        },
        "id": "-_uwhHD1QSWn",
        "outputId": "44570d39-ab4f-4074-a42b-a59ae1b53ff4"
      },
      "execution_count": null,
      "outputs": [
        {
          "output_type": "stream",
          "name": "stdout",
          "text": [
            "CUST_ID                               0\n",
            "BALANCE                               0\n",
            "BALANCE_FREQUENCY                     0\n",
            "PURCHASES                             0\n",
            "ONEOFF_PURCHASES                      0\n",
            "INSTALLMENTS_PURCHASES                0\n",
            "CASH_ADVANCE                          0\n",
            "PURCHASES_FREQUENCY                   0\n",
            "ONEOFF_PURCHASES_FREQUENCY            0\n",
            "PURCHASES_INSTALLMENTS_FREQUENCY      0\n",
            "CASH_ADVANCE_FREQUENCY                0\n",
            "CASH_ADVANCE_TRX                      0\n",
            "PURCHASES_TRX                         0\n",
            "CREDIT_LIMIT                          1\n",
            "PAYMENTS                              0\n",
            "MINIMUM_PAYMENTS                    313\n",
            "PRC_FULL_PAYMENT                      0\n",
            "TENURE                                0\n",
            "dtype: int64\n"
          ]
        }
      ]
    },
    {
      "cell_type": "markdown",
      "source": [
        "### **Missing values:**\n",
        "\n",
        "- MINIMUM_PAYMENT\n",
        "- CREDIT_LIMIT"
      ],
      "metadata": {
        "id": "fpgVGWkzRMXY"
      }
    },
    {
      "cell_type": "code",
      "source": [
        "# Let's drop Customer ID since it has no meaning here\n",
        "creditcard_df.drop(\"CUST_ID\", axis = 1, inplace= True)"
      ],
      "metadata": {
        "id": "NiK955-PMIIa"
      },
      "execution_count": null,
      "outputs": []
    },
    {
      "cell_type": "code",
      "source": [
        "from sklearn.impute import SimpleImputer\n",
        "\n",
        "imputer = SimpleImputer(strategy='mean')\n",
        "credit_card_imputed = imputer.fit_transform(creditcard_df)\n",
        "\n",
        "# Note that this code will cause an error if we do not remove \"CUST_ID\" as it is a string column."
      ],
      "metadata": {
        "id": "9JO3rs1lEFUR"
      },
      "execution_count": null,
      "outputs": []
    },
    {
      "cell_type": "code",
      "source": [
        "credit_card_imputed_df = pd.DataFrame(credit_card_imputed, columns=creditcard_df.columns)"
      ],
      "metadata": {
        "id": "LvCKyduLVl6a"
      },
      "execution_count": null,
      "outputs": []
    },
    {
      "cell_type": "code",
      "source": [
        "print(credit_card_imputed_df.isnull().sum())"
      ],
      "metadata": {
        "colab": {
          "base_uri": "https://localhost:8080/"
        },
        "id": "Vsh10QdwVrtr",
        "outputId": "76301610-9d5a-43fd-d422-e480ca95f289"
      },
      "execution_count": null,
      "outputs": [
        {
          "output_type": "stream",
          "name": "stdout",
          "text": [
            "BALANCE                             0\n",
            "BALANCE_FREQUENCY                   0\n",
            "PURCHASES                           0\n",
            "ONEOFF_PURCHASES                    0\n",
            "INSTALLMENTS_PURCHASES              0\n",
            "CASH_ADVANCE                        0\n",
            "PURCHASES_FREQUENCY                 0\n",
            "ONEOFF_PURCHASES_FREQUENCY          0\n",
            "PURCHASES_INSTALLMENTS_FREQUENCY    0\n",
            "CASH_ADVANCE_FREQUENCY              0\n",
            "CASH_ADVANCE_TRX                    0\n",
            "PURCHASES_TRX                       0\n",
            "CREDIT_LIMIT                        0\n",
            "PAYMENTS                            0\n",
            "MINIMUM_PAYMENTS                    0\n",
            "PRC_FULL_PAYMENT                    0\n",
            "TENURE                              0\n",
            "dtype: int64\n"
          ]
        }
      ]
    },
    {
      "cell_type": "code",
      "source": [
        "creditcard_df.head()"
      ],
      "metadata": {
        "colab": {
          "base_uri": "https://localhost:8080/",
          "height": 226
        },
        "id": "gZha30oDMPDt",
        "outputId": "0bf46796-3e26-4a68-a62d-8f8285a98224"
      },
      "execution_count": null,
      "outputs": [
        {
          "output_type": "execute_result",
          "data": {
            "text/plain": [
              "       BALANCE  BALANCE_FREQUENCY  PURCHASES  ONEOFF_PURCHASES  \\\n",
              "0    40.900749           0.818182      95.40              0.00   \n",
              "1  3202.467416           0.909091       0.00              0.00   \n",
              "2  2495.148862           1.000000     773.17            773.17   \n",
              "3  1666.670542           0.636364    1499.00           1499.00   \n",
              "4   817.714335           1.000000      16.00             16.00   \n",
              "\n",
              "   INSTALLMENTS_PURCHASES  CASH_ADVANCE  PURCHASES_FREQUENCY  \\\n",
              "0                    95.4      0.000000             0.166667   \n",
              "1                     0.0   6442.945483             0.000000   \n",
              "2                     0.0      0.000000             1.000000   \n",
              "3                     0.0    205.788017             0.083333   \n",
              "4                     0.0      0.000000             0.083333   \n",
              "\n",
              "   ONEOFF_PURCHASES_FREQUENCY  PURCHASES_INSTALLMENTS_FREQUENCY  \\\n",
              "0                    0.000000                          0.083333   \n",
              "1                    0.000000                          0.000000   \n",
              "2                    1.000000                          0.000000   \n",
              "3                    0.083333                          0.000000   \n",
              "4                    0.083333                          0.000000   \n",
              "\n",
              "   CASH_ADVANCE_FREQUENCY  CASH_ADVANCE_TRX  PURCHASES_TRX  CREDIT_LIMIT  \\\n",
              "0                0.000000                 0              2        1000.0   \n",
              "1                0.250000                 4              0        7000.0   \n",
              "2                0.000000                 0             12        7500.0   \n",
              "3                0.083333                 1              1        7500.0   \n",
              "4                0.000000                 0              1        1200.0   \n",
              "\n",
              "      PAYMENTS  MINIMUM_PAYMENTS  PRC_FULL_PAYMENT  TENURE  \n",
              "0   201.802084        139.509787          0.000000      12  \n",
              "1  4103.032597       1072.340217          0.222222      12  \n",
              "2   622.066742        627.284787          0.000000      12  \n",
              "3     0.000000               NaN          0.000000      12  \n",
              "4   678.334763        244.791237          0.000000      12  "
            ],
            "text/html": [
              "\n",
              "  <div id=\"df-ee991ee3-517a-4177-a38d-4dea49fd5083\" class=\"colab-df-container\">\n",
              "    <div>\n",
              "<style scoped>\n",
              "    .dataframe tbody tr th:only-of-type {\n",
              "        vertical-align: middle;\n",
              "    }\n",
              "\n",
              "    .dataframe tbody tr th {\n",
              "        vertical-align: top;\n",
              "    }\n",
              "\n",
              "    .dataframe thead th {\n",
              "        text-align: right;\n",
              "    }\n",
              "</style>\n",
              "<table border=\"1\" class=\"dataframe\">\n",
              "  <thead>\n",
              "    <tr style=\"text-align: right;\">\n",
              "      <th></th>\n",
              "      <th>BALANCE</th>\n",
              "      <th>BALANCE_FREQUENCY</th>\n",
              "      <th>PURCHASES</th>\n",
              "      <th>ONEOFF_PURCHASES</th>\n",
              "      <th>INSTALLMENTS_PURCHASES</th>\n",
              "      <th>CASH_ADVANCE</th>\n",
              "      <th>PURCHASES_FREQUENCY</th>\n",
              "      <th>ONEOFF_PURCHASES_FREQUENCY</th>\n",
              "      <th>PURCHASES_INSTALLMENTS_FREQUENCY</th>\n",
              "      <th>CASH_ADVANCE_FREQUENCY</th>\n",
              "      <th>CASH_ADVANCE_TRX</th>\n",
              "      <th>PURCHASES_TRX</th>\n",
              "      <th>CREDIT_LIMIT</th>\n",
              "      <th>PAYMENTS</th>\n",
              "      <th>MINIMUM_PAYMENTS</th>\n",
              "      <th>PRC_FULL_PAYMENT</th>\n",
              "      <th>TENURE</th>\n",
              "    </tr>\n",
              "  </thead>\n",
              "  <tbody>\n",
              "    <tr>\n",
              "      <th>0</th>\n",
              "      <td>40.900749</td>\n",
              "      <td>0.818182</td>\n",
              "      <td>95.40</td>\n",
              "      <td>0.00</td>\n",
              "      <td>95.4</td>\n",
              "      <td>0.000000</td>\n",
              "      <td>0.166667</td>\n",
              "      <td>0.000000</td>\n",
              "      <td>0.083333</td>\n",
              "      <td>0.000000</td>\n",
              "      <td>0</td>\n",
              "      <td>2</td>\n",
              "      <td>1000.0</td>\n",
              "      <td>201.802084</td>\n",
              "      <td>139.509787</td>\n",
              "      <td>0.000000</td>\n",
              "      <td>12</td>\n",
              "    </tr>\n",
              "    <tr>\n",
              "      <th>1</th>\n",
              "      <td>3202.467416</td>\n",
              "      <td>0.909091</td>\n",
              "      <td>0.00</td>\n",
              "      <td>0.00</td>\n",
              "      <td>0.0</td>\n",
              "      <td>6442.945483</td>\n",
              "      <td>0.000000</td>\n",
              "      <td>0.000000</td>\n",
              "      <td>0.000000</td>\n",
              "      <td>0.250000</td>\n",
              "      <td>4</td>\n",
              "      <td>0</td>\n",
              "      <td>7000.0</td>\n",
              "      <td>4103.032597</td>\n",
              "      <td>1072.340217</td>\n",
              "      <td>0.222222</td>\n",
              "      <td>12</td>\n",
              "    </tr>\n",
              "    <tr>\n",
              "      <th>2</th>\n",
              "      <td>2495.148862</td>\n",
              "      <td>1.000000</td>\n",
              "      <td>773.17</td>\n",
              "      <td>773.17</td>\n",
              "      <td>0.0</td>\n",
              "      <td>0.000000</td>\n",
              "      <td>1.000000</td>\n",
              "      <td>1.000000</td>\n",
              "      <td>0.000000</td>\n",
              "      <td>0.000000</td>\n",
              "      <td>0</td>\n",
              "      <td>12</td>\n",
              "      <td>7500.0</td>\n",
              "      <td>622.066742</td>\n",
              "      <td>627.284787</td>\n",
              "      <td>0.000000</td>\n",
              "      <td>12</td>\n",
              "    </tr>\n",
              "    <tr>\n",
              "      <th>3</th>\n",
              "      <td>1666.670542</td>\n",
              "      <td>0.636364</td>\n",
              "      <td>1499.00</td>\n",
              "      <td>1499.00</td>\n",
              "      <td>0.0</td>\n",
              "      <td>205.788017</td>\n",
              "      <td>0.083333</td>\n",
              "      <td>0.083333</td>\n",
              "      <td>0.000000</td>\n",
              "      <td>0.083333</td>\n",
              "      <td>1</td>\n",
              "      <td>1</td>\n",
              "      <td>7500.0</td>\n",
              "      <td>0.000000</td>\n",
              "      <td>NaN</td>\n",
              "      <td>0.000000</td>\n",
              "      <td>12</td>\n",
              "    </tr>\n",
              "    <tr>\n",
              "      <th>4</th>\n",
              "      <td>817.714335</td>\n",
              "      <td>1.000000</td>\n",
              "      <td>16.00</td>\n",
              "      <td>16.00</td>\n",
              "      <td>0.0</td>\n",
              "      <td>0.000000</td>\n",
              "      <td>0.083333</td>\n",
              "      <td>0.083333</td>\n",
              "      <td>0.000000</td>\n",
              "      <td>0.000000</td>\n",
              "      <td>0</td>\n",
              "      <td>1</td>\n",
              "      <td>1200.0</td>\n",
              "      <td>678.334763</td>\n",
              "      <td>244.791237</td>\n",
              "      <td>0.000000</td>\n",
              "      <td>12</td>\n",
              "    </tr>\n",
              "  </tbody>\n",
              "</table>\n",
              "</div>\n",
              "    <div class=\"colab-df-buttons\">\n",
              "\n",
              "  <div class=\"colab-df-container\">\n",
              "    <button class=\"colab-df-convert\" onclick=\"convertToInteractive('df-ee991ee3-517a-4177-a38d-4dea49fd5083')\"\n",
              "            title=\"Convert this dataframe to an interactive table.\"\n",
              "            style=\"display:none;\">\n",
              "\n",
              "  <svg xmlns=\"http://www.w3.org/2000/svg\" height=\"24px\" viewBox=\"0 -960 960 960\">\n",
              "    <path d=\"M120-120v-720h720v720H120Zm60-500h600v-160H180v160Zm220 220h160v-160H400v160Zm0 220h160v-160H400v160ZM180-400h160v-160H180v160Zm440 0h160v-160H620v160ZM180-180h160v-160H180v160Zm440 0h160v-160H620v160Z\"/>\n",
              "  </svg>\n",
              "    </button>\n",
              "\n",
              "  <style>\n",
              "    .colab-df-container {\n",
              "      display:flex;\n",
              "      gap: 12px;\n",
              "    }\n",
              "\n",
              "    .colab-df-convert {\n",
              "      background-color: #E8F0FE;\n",
              "      border: none;\n",
              "      border-radius: 50%;\n",
              "      cursor: pointer;\n",
              "      display: none;\n",
              "      fill: #1967D2;\n",
              "      height: 32px;\n",
              "      padding: 0 0 0 0;\n",
              "      width: 32px;\n",
              "    }\n",
              "\n",
              "    .colab-df-convert:hover {\n",
              "      background-color: #E2EBFA;\n",
              "      box-shadow: 0px 1px 2px rgba(60, 64, 67, 0.3), 0px 1px 3px 1px rgba(60, 64, 67, 0.15);\n",
              "      fill: #174EA6;\n",
              "    }\n",
              "\n",
              "    .colab-df-buttons div {\n",
              "      margin-bottom: 4px;\n",
              "    }\n",
              "\n",
              "    [theme=dark] .colab-df-convert {\n",
              "      background-color: #3B4455;\n",
              "      fill: #D2E3FC;\n",
              "    }\n",
              "\n",
              "    [theme=dark] .colab-df-convert:hover {\n",
              "      background-color: #434B5C;\n",
              "      box-shadow: 0px 1px 3px 1px rgba(0, 0, 0, 0.15);\n",
              "      filter: drop-shadow(0px 1px 2px rgba(0, 0, 0, 0.3));\n",
              "      fill: #FFFFFF;\n",
              "    }\n",
              "  </style>\n",
              "\n",
              "    <script>\n",
              "      const buttonEl =\n",
              "        document.querySelector('#df-ee991ee3-517a-4177-a38d-4dea49fd5083 button.colab-df-convert');\n",
              "      buttonEl.style.display =\n",
              "        google.colab.kernel.accessAllowed ? 'block' : 'none';\n",
              "\n",
              "      async function convertToInteractive(key) {\n",
              "        const element = document.querySelector('#df-ee991ee3-517a-4177-a38d-4dea49fd5083');\n",
              "        const dataTable =\n",
              "          await google.colab.kernel.invokeFunction('convertToInteractive',\n",
              "                                                    [key], {});\n",
              "        if (!dataTable) return;\n",
              "\n",
              "        const docLinkHtml = 'Like what you see? Visit the ' +\n",
              "          '<a target=\"_blank\" href=https://colab.research.google.com/notebooks/data_table.ipynb>data table notebook</a>'\n",
              "          + ' to learn more about interactive tables.';\n",
              "        element.innerHTML = '';\n",
              "        dataTable['output_type'] = 'display_data';\n",
              "        await google.colab.output.renderOutput(dataTable, element);\n",
              "        const docLink = document.createElement('div');\n",
              "        docLink.innerHTML = docLinkHtml;\n",
              "        element.appendChild(docLink);\n",
              "      }\n",
              "    </script>\n",
              "  </div>\n",
              "\n",
              "\n",
              "<div id=\"df-726d22e7-e56a-4a32-b892-db82368526a9\">\n",
              "  <button class=\"colab-df-quickchart\" onclick=\"quickchart('df-726d22e7-e56a-4a32-b892-db82368526a9')\"\n",
              "            title=\"Suggest charts\"\n",
              "            style=\"display:none;\">\n",
              "\n",
              "<svg xmlns=\"http://www.w3.org/2000/svg\" height=\"24px\"viewBox=\"0 0 24 24\"\n",
              "     width=\"24px\">\n",
              "    <g>\n",
              "        <path d=\"M19 3H5c-1.1 0-2 .9-2 2v14c0 1.1.9 2 2 2h14c1.1 0 2-.9 2-2V5c0-1.1-.9-2-2-2zM9 17H7v-7h2v7zm4 0h-2V7h2v10zm4 0h-2v-4h2v4z\"/>\n",
              "    </g>\n",
              "</svg>\n",
              "  </button>\n",
              "\n",
              "<style>\n",
              "  .colab-df-quickchart {\n",
              "      --bg-color: #E8F0FE;\n",
              "      --fill-color: #1967D2;\n",
              "      --hover-bg-color: #E2EBFA;\n",
              "      --hover-fill-color: #174EA6;\n",
              "      --disabled-fill-color: #AAA;\n",
              "      --disabled-bg-color: #DDD;\n",
              "  }\n",
              "\n",
              "  [theme=dark] .colab-df-quickchart {\n",
              "      --bg-color: #3B4455;\n",
              "      --fill-color: #D2E3FC;\n",
              "      --hover-bg-color: #434B5C;\n",
              "      --hover-fill-color: #FFFFFF;\n",
              "      --disabled-bg-color: #3B4455;\n",
              "      --disabled-fill-color: #666;\n",
              "  }\n",
              "\n",
              "  .colab-df-quickchart {\n",
              "    background-color: var(--bg-color);\n",
              "    border: none;\n",
              "    border-radius: 50%;\n",
              "    cursor: pointer;\n",
              "    display: none;\n",
              "    fill: var(--fill-color);\n",
              "    height: 32px;\n",
              "    padding: 0;\n",
              "    width: 32px;\n",
              "  }\n",
              "\n",
              "  .colab-df-quickchart:hover {\n",
              "    background-color: var(--hover-bg-color);\n",
              "    box-shadow: 0 1px 2px rgba(60, 64, 67, 0.3), 0 1px 3px 1px rgba(60, 64, 67, 0.15);\n",
              "    fill: var(--button-hover-fill-color);\n",
              "  }\n",
              "\n",
              "  .colab-df-quickchart-complete:disabled,\n",
              "  .colab-df-quickchart-complete:disabled:hover {\n",
              "    background-color: var(--disabled-bg-color);\n",
              "    fill: var(--disabled-fill-color);\n",
              "    box-shadow: none;\n",
              "  }\n",
              "\n",
              "  .colab-df-spinner {\n",
              "    border: 2px solid var(--fill-color);\n",
              "    border-color: transparent;\n",
              "    border-bottom-color: var(--fill-color);\n",
              "    animation:\n",
              "      spin 1s steps(1) infinite;\n",
              "  }\n",
              "\n",
              "  @keyframes spin {\n",
              "    0% {\n",
              "      border-color: transparent;\n",
              "      border-bottom-color: var(--fill-color);\n",
              "      border-left-color: var(--fill-color);\n",
              "    }\n",
              "    20% {\n",
              "      border-color: transparent;\n",
              "      border-left-color: var(--fill-color);\n",
              "      border-top-color: var(--fill-color);\n",
              "    }\n",
              "    30% {\n",
              "      border-color: transparent;\n",
              "      border-left-color: var(--fill-color);\n",
              "      border-top-color: var(--fill-color);\n",
              "      border-right-color: var(--fill-color);\n",
              "    }\n",
              "    40% {\n",
              "      border-color: transparent;\n",
              "      border-right-color: var(--fill-color);\n",
              "      border-top-color: var(--fill-color);\n",
              "    }\n",
              "    60% {\n",
              "      border-color: transparent;\n",
              "      border-right-color: var(--fill-color);\n",
              "    }\n",
              "    80% {\n",
              "      border-color: transparent;\n",
              "      border-right-color: var(--fill-color);\n",
              "      border-bottom-color: var(--fill-color);\n",
              "    }\n",
              "    90% {\n",
              "      border-color: transparent;\n",
              "      border-bottom-color: var(--fill-color);\n",
              "    }\n",
              "  }\n",
              "</style>\n",
              "\n",
              "  <script>\n",
              "    async function quickchart(key) {\n",
              "      const quickchartButtonEl =\n",
              "        document.querySelector('#' + key + ' button');\n",
              "      quickchartButtonEl.disabled = true;  // To prevent multiple clicks.\n",
              "      quickchartButtonEl.classList.add('colab-df-spinner');\n",
              "      try {\n",
              "        const charts = await google.colab.kernel.invokeFunction(\n",
              "            'suggestCharts', [key], {});\n",
              "      } catch (error) {\n",
              "        console.error('Error during call to suggestCharts:', error);\n",
              "      }\n",
              "      quickchartButtonEl.classList.remove('colab-df-spinner');\n",
              "      quickchartButtonEl.classList.add('colab-df-quickchart-complete');\n",
              "    }\n",
              "    (() => {\n",
              "      let quickchartButtonEl =\n",
              "        document.querySelector('#df-726d22e7-e56a-4a32-b892-db82368526a9 button');\n",
              "      quickchartButtonEl.style.display =\n",
              "        google.colab.kernel.accessAllowed ? 'block' : 'none';\n",
              "    })();\n",
              "  </script>\n",
              "</div>\n",
              "    </div>\n",
              "  </div>\n"
            ]
          },
          "metadata": {},
          "execution_count": 58
        }
      ]
    },
    {
      "cell_type": "code",
      "source": [
        "inertias = []\n",
        "K_range = range(1, 11)\n",
        "for K in K_range:\n",
        "    kmeans = KMeans(n_clusters=K, n_init=10, random_state=42)\n",
        "    kmeans.fit(credit_card_imputed)\n",
        "    inertias.append(kmeans.inertia_)\n"
      ],
      "metadata": {
        "id": "HEdagWeuLjMF"
      },
      "execution_count": null,
      "outputs": []
    },
    {
      "cell_type": "code",
      "source": [
        "plt.plot(K_range, inertias, marker='o')\n",
        "plt.xlabel('Number of clusters (K)')\n",
        "plt.ylabel('Inertia')\n",
        "plt.title('Elbow Method: Inertia vs K')\n",
        "plt.grid(True)\n",
        "plt.show()\n"
      ],
      "metadata": {
        "colab": {
          "base_uri": "https://localhost:8080/",
          "height": 472
        },
        "id": "VsT7DOG7Lp3V",
        "outputId": "9c99eccc-eed4-44e0-f3d0-c472030ed6a5"
      },
      "execution_count": null,
      "outputs": [
        {
          "output_type": "display_data",
          "data": {
            "text/plain": [
              "<Figure size 640x480 with 1 Axes>"
            ],
            "image/png": "[encoded data removed]"
          },
          "metadata": {}
        }
      ]
    },
    {
      "cell_type": "code",
      "source": [],
      "metadata": {
        "id": "8aYxZy02dpGI"
      },
      "execution_count": null,
      "outputs": []
    },
    {
      "cell_type": "markdown",
      "source": [
        "## **Practice Opportunity 4: Detecting Outliers**"
      ],
      "metadata": {
        "id": "LtTMjPoKThVR"
      }
    },
    {
      "cell_type": "markdown",
      "source": [
        "In the next exercises, we will use the K-means algorithm to detect fraud and validate the results by comparing the predictions to the saved labels. The method commonly used to identify fraudulent transactions involves marking the observations that are farthest from the cluster centroid as suspicious. This exercise will show you how to do it and identify the threshold that will be used to confirm the results in the future exercise. You can access the scaled observations X_scaled as well as the labels kept in the variable y.\n",
        "\n",
        "Instructions:\n",
        "\n",
        "- Split the scaled data and labels y into a training and testing set.\n",
        "- Create a MiniBatch K-means model with three clusters and fit it to the training data.\n",
        "- Obtain the cluster predictions from the test data and determine the cluster centroids.\n",
        "- Set the threshold for identifying fraud as 95% of the distance distribution and above.\n"
      ],
      "metadata": {
        "id": "rlLSFv5-Vfk9"
      }
    },
    {
      "cell_type": "markdown",
      "source": [
        "## **1- Import the important library and load the dataset**"
      ],
      "metadata": {
        "id": "FHLo9Rnwtbel"
      }
    },
    {
      "cell_type": "code",
      "source": [
        "import pandas as pd\n",
        "\n",
        "# Load the dataset into a DataFrame\n",
        "banksim_df = pd.read_csv('banksim.csv')\n",
        "\n",
        "# Display the first few rows of the dataframe\n",
        "banksim_df.head()\n"
      ],
      "metadata": {
        "colab": {
          "base_uri": "https://localhost:8080/",
          "height": 206
        },
        "id": "cUY_YYj1p7oy",
        "outputId": "cb307538-1ca9-43a0-e2f2-87563db75ced"
      },
      "execution_count": 13,
      "outputs": [
        {
          "output_type": "execute_result",
          "data": {
            "text/plain": [
              "   Unnamed: 0 age gender           category  amount  fraud\n",
              "0      171915   3      F  es_transportation   49.71      0\n",
              "1      426989   4      F          es_health   39.29      0\n",
              "2      310539   3      F  es_transportation   18.76      0\n",
              "3      215216   4      M  es_transportation   13.95      0\n",
              "4      569244   2      M  es_transportation   49.87      0"
            ],
            "text/html": [
              "\n",
              "  <div id=\"df-649a42c9-9ae1-4ebe-a272-7da164ded06d\" class=\"colab-df-container\">\n",
              "    <div>\n",
              "<style scoped>\n",
              "    .dataframe tbody tr th:only-of-type {\n",
              "        vertical-align: middle;\n",
              "    }\n",
              "\n",
              "    .dataframe tbody tr th {\n",
              "        vertical-align: top;\n",
              "    }\n",
              "\n",
              "    .dataframe thead th {\n",
              "        text-align: right;\n",
              "    }\n",
              "</style>\n",
              "<table border=\"1\" class=\"dataframe\">\n",
              "  <thead>\n",
              "    <tr style=\"text-align: right;\">\n",
              "      <th></th>\n",
              "      <th>Unnamed: 0</th>\n",
              "      <th>age</th>\n",
              "      <th>gender</th>\n",
              "      <th>category</th>\n",
              "      <th>amount</th>\n",
              "      <th>fraud</th>\n",
              "    </tr>\n",
              "  </thead>\n",
              "  <tbody>\n",
              "    <tr>\n",
              "      <th>0</th>\n",
              "      <td>171915</td>\n",
              "      <td>3</td>\n",
              "      <td>F</td>\n",
              "      <td>es_transportation</td>\n",
              "      <td>49.71</td>\n",
              "      <td>0</td>\n",
              "    </tr>\n",
              "    <tr>\n",
              "      <th>1</th>\n",
              "      <td>426989</td>\n",
              "      <td>4</td>\n",
              "      <td>F</td>\n",
              "      <td>es_health</td>\n",
              "      <td>39.29</td>\n",
              "      <td>0</td>\n",
              "    </tr>\n",
              "    <tr>\n",
              "      <th>2</th>\n",
              "      <td>310539</td>\n",
              "      <td>3</td>\n",
              "      <td>F</td>\n",
              "      <td>es_transportation</td>\n",
              "      <td>18.76</td>\n",
              "      <td>0</td>\n",
              "    </tr>\n",
              "    <tr>\n",
              "      <th>3</th>\n",
              "      <td>215216</td>\n",
              "      <td>4</td>\n",
              "      <td>M</td>\n",
              "      <td>es_transportation</td>\n",
              "      <td>13.95</td>\n",
              "      <td>0</td>\n",
              "    </tr>\n",
              "    <tr>\n",
              "      <th>4</th>\n",
              "      <td>569244</td>\n",
              "      <td>2</td>\n",
              "      <td>M</td>\n",
              "      <td>es_transportation</td>\n",
              "      <td>49.87</td>\n",
              "      <td>0</td>\n",
              "    </tr>\n",
              "  </tbody>\n",
              "</table>\n",
              "</div>\n",
              "    <div class=\"colab-df-buttons\">\n",
              "\n",
              "  <div class=\"colab-df-container\">\n",
              "    <button class=\"colab-df-convert\" onclick=\"convertToInteractive('df-649a42c9-9ae1-4ebe-a272-7da164ded06d')\"\n",
              "            title=\"Convert this dataframe to an interactive table.\"\n",
              "            style=\"display:none;\">\n",
              "\n",
              "  <svg xmlns=\"http://www.w3.org/2000/svg\" height=\"24px\" viewBox=\"0 -960 960 960\">\n",
              "    <path d=\"M120-120v-720h720v720H120Zm60-500h600v-160H180v160Zm220 220h160v-160H400v160Zm0 220h160v-160H400v160ZM180-400h160v-160H180v160Zm440 0h160v-160H620v160ZM180-180h160v-160H180v160Zm440 0h160v-160H620v160Z\"/>\n",
              "  </svg>\n",
              "    </button>\n",
              "\n",
              "  <style>\n",
              "    .colab-df-container {\n",
              "      display:flex;\n",
              "      gap: 12px;\n",
              "    }\n",
              "\n",
              "    .colab-df-convert {\n",
              "      background-color: #E8F0FE;\n",
              "      border: none;\n",
              "      border-radius: 50%;\n",
              "      cursor: pointer;\n",
              "      display: none;\n",
              "      fill: #1967D2;\n",
              "      height: 32px;\n",
              "      padding: 0 0 0 0;\n",
              "      width: 32px;\n",
              "    }\n",
              "\n",
              "    .colab-df-convert:hover {\n",
              "      background-color: #E2EBFA;\n",
              "      box-shadow: 0px 1px 2px rgba(60, 64, 67, 0.3), 0px 1px 3px 1px rgba(60, 64, 67, 0.15);\n",
              "      fill: #174EA6;\n",
              "    }\n",
              "\n",
              "    .colab-df-buttons div {\n",
              "      margin-bottom: 4px;\n",
              "    }\n",
              "\n",
              "    [theme=dark] .colab-df-convert {\n",
              "      background-color: #3B4455;\n",
              "      fill: #D2E3FC;\n",
              "    }\n",
              "\n",
              "    [theme=dark] .colab-df-convert:hover {\n",
              "      background-color: #434B5C;\n",
              "      box-shadow: 0px 1px 3px 1px rgba(0, 0, 0, 0.15);\n",
              "      filter: drop-shadow(0px 1px 2px rgba(0, 0, 0, 0.3));\n",
              "      fill: #FFFFFF;\n",
              "    }\n",
              "  </style>\n",
              "\n",
              "    <script>\n",
              "      const buttonEl =\n",
              "        document.querySelector('#df-649a42c9-9ae1-4ebe-a272-7da164ded06d button.colab-df-convert');\n",
              "      buttonEl.style.display =\n",
              "        google.colab.kernel.accessAllowed ? 'block' : 'none';\n",
              "\n",
              "      async function convertToInteractive(key) {\n",
              "        const element = document.querySelector('#df-649a42c9-9ae1-4ebe-a272-7da164ded06d');\n",
              "        const dataTable =\n",
              "          await google.colab.kernel.invokeFunction('convertToInteractive',\n",
              "                                                    [key], {});\n",
              "        if (!dataTable) return;\n",
              "\n",
              "        const docLinkHtml = 'Like what you see? Visit the ' +\n",
              "          '<a target=\"_blank\" href=https://colab.research.google.com/notebooks/data_table.ipynb>data table notebook</a>'\n",
              "          + ' to learn more about interactive tables.';\n",
              "        element.innerHTML = '';\n",
              "        dataTable['output_type'] = 'display_data';\n",
              "        await google.colab.output.renderOutput(dataTable, element);\n",
              "        const docLink = document.createElement('div');\n",
              "        docLink.innerHTML = docLinkHtml;\n",
              "        element.appendChild(docLink);\n",
              "      }\n",
              "    </script>\n",
              "  </div>\n",
              "\n",
              "\n",
              "<div id=\"df-f1310dd2-3d4e-4299-8da1-ba0ade41ef23\">\n",
              "  <button class=\"colab-df-quickchart\" onclick=\"quickchart('df-f1310dd2-3d4e-4299-8da1-ba0ade41ef23')\"\n",
              "            title=\"Suggest charts\"\n",
              "            style=\"display:none;\">\n",
              "\n",
              "<svg xmlns=\"http://www.w3.org/2000/svg\" height=\"24px\"viewBox=\"0 0 24 24\"\n",
              "     width=\"24px\">\n",
              "    <g>\n",
              "        <path d=\"M19 3H5c-1.1 0-2 .9-2 2v14c0 1.1.9 2 2 2h14c1.1 0 2-.9 2-2V5c0-1.1-.9-2-2-2zM9 17H7v-7h2v7zm4 0h-2V7h2v10zm4 0h-2v-4h2v4z\"/>\n",
              "    </g>\n",
              "</svg>\n",
              "  </button>\n",
              "\n",
              "<style>\n",
              "  .colab-df-quickchart {\n",
              "      --bg-color: #E8F0FE;\n",
              "      --fill-color: #1967D2;\n",
              "      --hover-bg-color: #E2EBFA;\n",
              "      --hover-fill-color: #174EA6;\n",
              "      --disabled-fill-color: #AAA;\n",
              "      --disabled-bg-color: #DDD;\n",
              "  }\n",
              "\n",
              "  [theme=dark] .colab-df-quickchart {\n",
              "      --bg-color: #3B4455;\n",
              "      --fill-color: #D2E3FC;\n",
              "      --hover-bg-color: #434B5C;\n",
              "      --hover-fill-color: #FFFFFF;\n",
              "      --disabled-bg-color: #3B4455;\n",
              "      --disabled-fill-color: #666;\n",
              "  }\n",
              "\n",
              "  .colab-df-quickchart {\n",
              "    background-color: var(--bg-color);\n",
              "    border: none;\n",
              "    border-radius: 50%;\n",
              "    cursor: pointer;\n",
              "    display: none;\n",
              "    fill: var(--fill-color);\n",
              "    height: 32px;\n",
              "    padding: 0;\n",
              "    width: 32px;\n",
              "  }\n",
              "\n",
              "  .colab-df-quickchart:hover {\n",
              "    background-color: var(--hover-bg-color);\n",
              "    box-shadow: 0 1px 2px rgba(60, 64, 67, 0.3), 0 1px 3px 1px rgba(60, 64, 67, 0.15);\n",
              "    fill: var(--button-hover-fill-color);\n",
              "  }\n",
              "\n",
              "  .colab-df-quickchart-complete:disabled,\n",
              "  .colab-df-quickchart-complete:disabled:hover {\n",
              "    background-color: var(--disabled-bg-color);\n",
              "    fill: var(--disabled-fill-color);\n",
              "    box-shadow: none;\n",
              "  }\n",
              "\n",
              "  .colab-df-spinner {\n",
              "    border: 2px solid var(--fill-color);\n",
              "    border-color: transparent;\n",
              "    border-bottom-color: var(--fill-color);\n",
              "    animation:\n",
              "      spin 1s steps(1) infinite;\n",
              "  }\n",
              "\n",
              "  @keyframes spin {\n",
              "    0% {\n",
              "      border-color: transparent;\n",
              "      border-bottom-color: var(--fill-color);\n",
              "      border-left-color: var(--fill-color);\n",
              "    }\n",
              "    20% {\n",
              "      border-color: transparent;\n",
              "      border-left-color: var(--fill-color);\n",
              "      border-top-color: var(--fill-color);\n",
              "    }\n",
              "    30% {\n",
              "      border-color: transparent;\n",
              "      border-left-color: var(--fill-color);\n",
              "      border-top-color: var(--fill-color);\n",
              "      border-right-color: var(--fill-color);\n",
              "    }\n",
              "    40% {\n",
              "      border-color: transparent;\n",
              "      border-right-color: var(--fill-color);\n",
              "      border-top-color: var(--fill-color);\n",
              "    }\n",
              "    60% {\n",
              "      border-color: transparent;\n",
              "      border-right-color: var(--fill-color);\n",
              "    }\n",
              "    80% {\n",
              "      border-color: transparent;\n",
              "      border-right-color: var(--fill-color);\n",
              "      border-bottom-color: var(--fill-color);\n",
              "    }\n",
              "    90% {\n",
              "      border-color: transparent;\n",
              "      border-bottom-color: var(--fill-color);\n",
              "    }\n",
              "  }\n",
              "</style>\n",
              "\n",
              "  <script>\n",
              "    async function quickchart(key) {\n",
              "      const quickchartButtonEl =\n",
              "        document.querySelector('#' + key + ' button');\n",
              "      quickchartButtonEl.disabled = true;  // To prevent multiple clicks.\n",
              "      quickchartButtonEl.classList.add('colab-df-spinner');\n",
              "      try {\n",
              "        const charts = await google.colab.kernel.invokeFunction(\n",
              "            'suggestCharts', [key], {});\n",
              "      } catch (error) {\n",
              "        console.error('Error during call to suggestCharts:', error);\n",
              "      }\n",
              "      quickchartButtonEl.classList.remove('colab-df-spinner');\n",
              "      quickchartButtonEl.classList.add('colab-df-quickchart-complete');\n",
              "    }\n",
              "    (() => {\n",
              "      let quickchartButtonEl =\n",
              "        document.querySelector('#df-f1310dd2-3d4e-4299-8da1-ba0ade41ef23 button');\n",
              "      quickchartButtonEl.style.display =\n",
              "        google.colab.kernel.accessAllowed ? 'block' : 'none';\n",
              "    })();\n",
              "  </script>\n",
              "</div>\n",
              "    </div>\n",
              "  </div>\n"
            ]
          },
          "metadata": {},
          "execution_count": 13
        }
      ]
    },
    {
      "cell_type": "markdown",
      "source": [
        "## **2- Preprocessing the dataset**"
      ],
      "metadata": {
        "id": "lOsSdgxthmXx"
      }
    },
    {
      "cell_type": "markdown",
      "source": [
        "The dataset **banksim_df** contains several columns, including **age, gender, category, amount**, and **fraud**. Before proceeding with the analysis, it's important to identify the scaled observations (X_scaled) and the labels (y). You assume **fraud** is the label (y) and the remaining columns, except for any non-numeric or identifier columns, are the features that need to be scaled.\n",
        "\n",
        "You'll proceed with the following steps:\n",
        "\n",
        "1. Preprocess the data: This includes encoding categorical features if present and scaling the numeric features.\n",
        "2. Split the data into training and testing sets.\n",
        "3. Create and fit a MiniBatch K-means model with three clusters to the training data.\n",
        "4. Obtain cluster predictions from the test data and determine the cluster centroids.\n",
        "5. Set a threshold for identifying fraud as 95% of the distance distribution and above."
      ],
      "metadata": {
        "id": "k8T_j0HUsgCc"
      }
    },
    {
      "cell_type": "code",
      "source": [
        "from sklearn.preprocessing import StandardScaler, OneHotEncoder\n",
        "from sklearn.compose import ColumnTransformer\n",
        "from sklearn.model_selection import train_test_split\n",
        "\n",
        "# Identifying the numeric and categorical columns\n",
        "numeric_features = ['amount']\n",
        "categorical_features = ['age', 'gender', 'category']\n",
        "\n",
        "# Create a ColumnTransformer with StandardScaler for numeric features and OneHotEncoder for categorical features\n",
        "preprocessor = ColumnTransformer(\n",
        "    transformers=[\n",
        "        ('num', StandardScaler(), numeric_features),\n",
        "        ('cat', OneHotEncoder(), categorical_features)\n",
        "    ])\n",
        "\n",
        "# Separating the features (X) and the target label (y)\n",
        "X = banksim_df.drop(columns=['fraud', 'Unnamed: 0'])  # 'Unnamed: 0' seems to be an identifier column\n",
        "y = banksim_df['fraud']\n",
        "\n",
        "# Applying the transformations to the features\n",
        "X_scaled = preprocessor.fit_transform(X)\n",
        "\n",
        "# Splitting the data into training and testing sets\n",
        "X_train, X_test, y_train, y_test = train_test_split(X_scaled, y, test_size=0.3, random_state=42)\n",
        "\n",
        "X_train.shape, X_test.shape, y_train.shape, y_test.shape\n"
      ],
      "metadata": {
        "colab": {
          "base_uri": "https://localhost:8080/"
        },
        "id": "j_3_fP41qE98",
        "outputId": "059885c8-b95b-4761-efbb-3ff77211de55"
      },
      "execution_count": 14,
      "outputs": [
        {
          "output_type": "execute_result",
          "data": {
            "text/plain": [
              "((5040, 28), (2160, 28), (5040,), (2160,))"
            ]
          },
          "metadata": {},
          "execution_count": 14
        }
      ]
    },
    {
      "cell_type": "markdown",
      "source": [
        "Now the data has been successfully preprocessed, and the features have been scaled. you've also split the data into training and testing sets, with 5040 observations in the training set and 2160 in the testing set."
      ],
      "metadata": {
        "id": "SzUXZcszh_1D"
      }
    },
    {
      "cell_type": "markdown",
      "source": [
        "## **3- Create and fit a MiniBatch K-means model**\n",
        "\n",
        "Next, you'll create and fit a MiniBatch K-means model with three clusters to the training data. After fitting the model, you'll use it to obtain cluster predictions from the test data and determine the cluster centroids. Finally, you'll set a threshold for identifying fraud as 95% of the distance distribution and above."
      ],
      "metadata": {
        "id": "iMBA70tQt6AX"
      }
    },
    {
      "cell_type": "code",
      "source": [
        "from sklearn.cluster import MiniBatchKMeans\n",
        "import numpy as np\n",
        "\n",
        "# Create a MiniBatch K-means model with three clusters and explicitly set n_init\n",
        "kmeans = MiniBatchKMeans(n_clusters=3, n_init=3, random_state=42)  # You can change n_init to 'auto' if you prefer\n",
        "\n",
        "# Fit the model to the training data\n",
        "kmeans.fit(X_train)\n",
        "\n",
        "# Obtain cluster predictions from the test data\n",
        "test_clusters = kmeans.predict(X_test)\n",
        "\n",
        "# Determine the cluster centroids\n",
        "centroids = kmeans.cluster_centers_\n",
        "\n",
        "# Calculate the distance of each point in the test set from its cluster centroid\n",
        "distances = np.linalg.norm(X_test - centroids[test_clusters], axis=1)\n",
        "\n",
        "# Set the threshold for identifying fraud as 95% of the distance distribution and above\n",
        "threshold = np.percentile(distances, 95)\n",
        "\n",
        "print(threshold)\n"
      ],
      "metadata": {
        "colab": {
          "base_uri": "https://localhost:8080/"
        },
        "id": "_k1c3Hv4qI5m",
        "outputId": "978591a3-62b4-40db-d238-26ce50d77a38"
      },
      "execution_count": 15,
      "outputs": [
        {
          "output_type": "stream",
          "name": "stdout",
          "text": [
            "1.8029151154454\n"
          ]
        }
      ]
    },
    {
      "cell_type": "markdown",
      "source": [
        "The threshold for identifying potential fraud transactions has been set at approximately 1.803. This value represents the 95th percentile of the distance distribution from each point in the test set to its respective cluster centroid. Transactions in the test set that have a distance greater than this threshold to their respective cluster centroid can be flagged as potential outliers or suspicious for fraud."
      ],
      "metadata": {
        "id": "KZHveOj0uYe1"
      }
    },
    {
      "cell_type": "markdown",
      "source": [
        "# **Practice Opportunity 5: Checking Model Results**"
      ],
      "metadata": {
        "id": "DbZGfl34UDNW"
      }
    },
    {
      "cell_type": "markdown",
      "source": [
        "Model Performance Evaluation In the previous exercise, you flagged all observations as fraud if they were in the top 5th percentile in distance from the cluster centroid, meaning these are the extreme outliers of the three clusters. You already have the scaled data and labels separated into training and test sets for this experiment, so *y_test* is available. The prior exercise's forecasts, *fraud_predictions*, are also available. Let's compute some performance measures to see how well the model did.\n",
        "\n",
        "Instructions:\n",
        "\n",
        "- Compute the area under the ROC curve using the test labels and predicted labels.\n",
        "- Calculate the confusion matrix using the test labels and predicted labels, and then visualize the results.\n"
      ],
      "metadata": {
        "id": "rRDQx0G5VyKg"
      }
    },
    {
      "cell_type": "markdown",
      "source": [
        "To evaluate the model's performance, we'll follow these steps:\n",
        "\n",
        "1. Flag observations as fraud if they are in the top 5th percentile in distance from the cluster centroid. These predictions will be stored in fraud_predictions.\n",
        "2. Compute the area under the ROC curve (AUC) using the test labels (y_test) and the predicted labels (fraud_predictions).\n",
        "3. Calculate and visualize the confusion matrix using the test labels and predicted labels.\n",
        "\n",
        "Now start by flagging the observations as fraud based on the threshold you determined earlier and then proceed with the performance evaluation."
      ],
      "metadata": {
        "id": "_N3gsYjwqUZO"
      }
    },
    {
      "cell_type": "code",
      "source": [
        "import numpy as np\n",
        "from sklearn.metrics import roc_auc_score, confusion_matrix, ConfusionMatrixDisplay\n",
        "import matplotlib.pyplot as plt\n",
        "\n",
        "# Flag as fraud based on the threshold\n",
        "fraud_predictions = np.where(distances > threshold, 1, 0)\n",
        "\n",
        "# Compute ROC AUC and confusion matrix\n",
        "roc_auc = roc_auc_score(y_test, fraud_predictions)\n",
        "conf_matrix = confusion_matrix(y_test, fraud_predictions)\n",
        "\n",
        "roc_auc, conf_matrix\n"
      ],
      "metadata": {
        "colab": {
          "base_uri": "https://localhost:8080/"
        },
        "id": "UNpjMWCYqTb5",
        "outputId": "f037f0a4-e3f5-4171-8ad9-73a88cd39405"
      },
      "execution_count": null,
      "outputs": [
        {
          "output_type": "execute_result",
          "data": {
            "text/plain": [
              "(0.7108451320975041,\n",
              " array([[2024,   84],\n",
              "        [  28,   24]]))"
            ]
          },
          "metadata": {},
          "execution_count": 26
        }
      ]
    },
    {
      "cell_type": "markdown",
      "source": [
        "The area under the ROC curve (AUC) for the model is approximately 0.711, indicating a moderate level of performance in distinguishing between the fraudulent and non-fraudulent transactions.\n",
        "\n",
        "The confusion matrix is as follows:\n",
        "\n",
        "- True Negatives (Correctly identified as non-fraud): 2024\n",
        "- False Positives (Incorrectly identified as fraud): 84\n",
        "- False Negatives (Incorrectly identified as non-fraud): 28\n",
        "- True Positives (Correctly identified as fraud): 24"
      ],
      "metadata": {
        "id": "kfd36VLDwFlG"
      }
    },
    {
      "cell_type": "code",
      "source": [
        "# Visualizing the confusion matrix\n",
        "plt.figure(figsize=(8, 6))\n",
        "ConfusionMatrixDisplay(conf_matrix, display_labels=['Non-Fraud', 'Fraud']).plot(values_format='d', cmap='Blues')\n",
        "plt.title('Confusion Matrix')\n",
        "plt.show()\n"
      ],
      "metadata": {
        "colab": {
          "base_uri": "https://localhost:8080/",
          "height": 489
        },
        "id": "4k6cMRrkqY-e",
        "outputId": "d301c7cf-cd61-4703-fda6-8fa03466938c"
      },
      "execution_count": null,
      "outputs": [
        {
          "output_type": "display_data",
          "data": {
            "text/plain": [
              "<Figure size 800x600 with 0 Axes>"
            ]
          },
          "metadata": {}
        },
        {
          "output_type": "display_data",
          "data": {
            "text/plain": [
              "<Figure size 640x480 with 2 Axes>"
            ],
            "image/png": "[encoded data removed]"
          },
          "metadata": {}
        }
      ]
    },
    {
      "cell_type": "markdown",
      "source": [
        "The above is the visual representation of the confusion matrix. It provides a clear view of how the model performed in terms of correctly and incorrectly classifying transactions as fraud or non-fraud. As seen, the model has a relatively higher number of true negatives and a modest number of true positives, with some false positives and false negatives."
      ],
      "metadata": {
        "id": "nI2gfdmDwf7L"
      }
    },
    {
      "cell_type": "markdown",
      "source": [
        "# **Practice Opportunity 6: Detecting Outliers Using DBSCAN**"
      ],
      "metadata": {
        "id": "Sczst8gB1OcP"
      }
    },
    {
      "cell_type": "markdown",
      "source": [
        "You can adapt the existing process to use DBSCAN (Density-Based Spatial Clustering of Applications with Noise) instead of K-means. DBSCAN is a density-based clustering algorithm that doesn't require specifying the number of clusters beforehand, and it can identify outliers as points in low-density regions.\n",
        "\n",
        "Here's how we can modify the process:\n",
        "\n",
        "1. Create and fit a DBSCAN model to the training data.\n",
        "2. Identify core samples and noise points (outliers) in the test data.\n",
        "3. Since DBSCAN doesn't use centroids like K-means, you'll identify the outliers directly based on the DBSCAN labels.\n",
        "\n",
        "Let's proceed with these steps."
      ],
      "metadata": {
        "id": "QR2tykBR2d8i"
      }
    },
    {
      "cell_type": "code",
      "source": [
        "from sklearn.cluster import DBSCAN\n",
        "\n",
        "# Create and fit a DBSCAN model to the training data\n",
        "dbscan = DBSCAN(eps=0.3, min_samples=10)\n",
        "dbscan.fit(X_train)\n",
        "\n",
        "# Identify core samples and noise points in the test data using DBSCAN\n",
        "test_labels = dbscan.fit_predict(X_test)\n",
        "\n",
        "# Identifying the outliers (noise points) - Outliers will be labeled as 1 (potential fraud) and others as 0 (non-fraud)\n",
        "dbscan_y_pred = np.where(test_labels == -1, 1, 0)\n",
        "\n",
        "dbscan_y_pred.sum(), dbscan_y_pred.shape\n"
      ],
      "metadata": {
        "colab": {
          "base_uri": "https://localhost:8080/"
        },
        "id": "_aTFOrePjN4h",
        "outputId": "3d97ff57-ff0b-42fc-eaad-81caa1342ded"
      },
      "execution_count": null,
      "outputs": [
        {
          "output_type": "execute_result",
          "data": {
            "text/plain": [
              "(369, (2160,))"
            ]
          },
          "metadata": {},
          "execution_count": 29
        }
      ]
    },
    {
      "cell_type": "markdown",
      "source": [
        "The DBSCAN algorithm has been applied to the test data. Out of the 2160 transactions in the test set, 369 have been identified as outliers, which could potentially be considered as suspicious or fraudulent transactions according to the DBSCAN model.\n",
        "\n",
        "DBSCAN labels data points as -1 if they are considered noise (or outliers in this context). These have been flagged as potential fraud (labelled as 1), while the rest are considered non-fraudulent (labelled as 0)."
      ],
      "metadata": {
        "id": "Ao7QH-e920VB"
      }
    },
    {
      "cell_type": "markdown",
      "source": [
        "## **Checking Model Results**"
      ],
      "metadata": {
        "id": "SyHh6mv81P0L"
      }
    },
    {
      "cell_type": "code",
      "source": [
        "# It seems the previous imports were lost. I will re-import the necessary libraries and re-run the calculations.\n",
        "from sklearn.metrics import roc_auc_score, confusion_matrix\n",
        "\n",
        "# Compute the area under the ROC curve using the test labels and predicted labels\n",
        "roc_auc_dbscan = roc_auc_score(y_test, dbscan_y_pred)\n",
        "\n",
        "# Calculate the confusion matrix using the test labels and predicted labels\n",
        "conf_matrix_dbscan = confusion_matrix(y_test, dbscan_y_pred)\n",
        "\n",
        "roc_auc_dbscan, conf_matrix_dbscan\n"
      ],
      "metadata": {
        "colab": {
          "base_uri": "https://localhost:8080/"
        },
        "id": "y60SeWQux4qI",
        "outputId": "9b59a37f-f1fb-480d-89e1-e24c458b43fd"
      },
      "execution_count": null,
      "outputs": [
        {
          "output_type": "execute_result",
          "data": {
            "text/plain": [
              "(0.9248102466793169,\n",
              " array([[1791,  317],\n",
              "        [   0,   52]]))"
            ]
          },
          "metadata": {},
          "execution_count": 30
        }
      ]
    },
    {
      "cell_type": "markdown",
      "source": [
        "The performance evaluation of the DBSCAN model yields the following results:\n",
        "\n",
        "Area under the ROC Curve (AUC): Approximately 0.925, which is quite high. This indicates a strong ability of the DBSCAN model to distinguish between fraudulent and non-fraudulent transactions.\n",
        "\n",
        "Confusion Matrix:\n",
        "\n",
        "- True Negatives (Correctly identified as non-fraud): 1791\n",
        "- False Positives (Incorrectly identified as fraud): 317\n",
        "- False Negatives (Incorrectly identified as non-fraud): 0\n",
        "- True Positives (Correctly identified as fraud): 52"
      ],
      "metadata": {
        "id": "buiXi85j3ErJ"
      }
    },
    {
      "cell_type": "code",
      "source": [
        "# Re-import matplotlib for visualization\n",
        "import matplotlib.pyplot as plt\n",
        "from sklearn.metrics import ConfusionMatrixDisplay\n",
        "\n",
        "# Visualizing the confusion matrix for the DBSCAN model\n",
        "plt.figure(figsize=(8, 6))\n",
        "ConfusionMatrixDisplay(conf_matrix_dbscan, display_labels=['Non-Fraud', 'Fraud']).plot(values_format='d', cmap='Blues')\n",
        "plt.title('Confusion Matrix - DBSCAN Model')\n",
        "plt.show()\n"
      ],
      "metadata": {
        "colab": {
          "base_uri": "https://localhost:8080/",
          "height": 489
        },
        "id": "w7jh4fgix6c7",
        "outputId": "b8eaa99c-cc27-4add-87cd-ebb9fb175d27"
      },
      "execution_count": null,
      "outputs": [
        {
          "output_type": "display_data",
          "data": {
            "text/plain": [
              "<Figure size 800x600 with 0 Axes>"
            ]
          },
          "metadata": {}
        },
        {
          "output_type": "display_data",
          "data": {
            "text/plain": [
              "<Figure size 640x480 with 2 Axes>"
            ],
            "image/png": "[encoded data removed]"
          },
          "metadata": {}
        }
      ]
    },
    {
      "cell_type": "markdown",
      "source": [
        "Here is the visual representation of the confusion matrix for the DBSCAN model. This visualization helps to clearly see the distribution of true positives, false positives, true negatives, and false negatives.\n",
        "\n",
        "As indicated, the model has successfully identified all fraudulent transactions (true positives) without any false negatives, but at the cost of a relatively high number of false positives."
      ],
      "metadata": {
        "id": "dCX7mO-V3Oj7"
      }
    },
    {
      "cell_type": "markdown",
      "source": [
        "You can plot the ROC curves for both the K-means and DBSCAN models to visually compare their performance.\n",
        "\n",
        " Let's proceed with these steps."
      ],
      "metadata": {
        "id": "zEiOenP77BnV"
      }
    },
    {
      "cell_type": "code",
      "source": [
        "from sklearn.metrics import roc_curve, auc\n",
        "from sklearn.cluster import MiniBatchKMeans\n",
        "\n",
        "# Compute ROC AUC for K-means\n",
        "roc_auc_kmeans = roc_auc_score(y_test, fraud_predictions)\n",
        "\n",
        "# ROC Curve for K-means\n",
        "fpr_km, tpr_km, _ = roc_curve(y_test, fraud_predictions)\n",
        "roc_auc_km = auc(fpr_km, tpr_km)\n",
        "\n",
        "# ROC Curve for DBSCAN\n",
        "fpr_db, tpr_db, _ = roc_curve(y_test, dbscan_y_pred)\n",
        "roc_auc_db = auc(fpr_db, tpr_db)\n",
        "\n",
        "# Plotting the ROC curves\n",
        "plt.figure(figsize=(10, 8))\n",
        "plt.plot(fpr_km, tpr_km, color='blue', lw=2, label='K-means ROC curve (area = %0.2f)' % roc_auc_km)\n",
        "plt.plot(fpr_db, tpr_db, color='green', lw=2, label='DBSCAN ROC curve (area = %0.2f)' % roc_auc_db)\n",
        "plt.plot([0, 1], [0, 1], color='navy', lw=2, linestyle='--')\n",
        "plt.xlim([0.0, 1.0])\n",
        "plt.ylim([0.0, 1.05])\n",
        "plt.xlabel('False Positive Rate')\n",
        "plt.ylabel('True Positive Rate')\n",
        "plt.title('Receiver Operating Characteristic (ROC) - K-means vs DBSCAN')\n",
        "plt.legend(loc=\"lower right\")\n",
        "plt.show()\n"
      ],
      "metadata": {
        "colab": {
          "base_uri": "https://localhost:8080/",
          "height": 718
        },
        "id": "pPoBtUKn4UIq",
        "outputId": "5473368e-8047-4a19-d7f8-4e659a94ef31"
      },
      "execution_count": null,
      "outputs": [
        {
          "output_type": "display_data",
          "data": {
            "text/plain": [
              "<Figure size 1000x800 with 1 Axes>"
            ],
            "image/png": "[encoded data removed]"
          },
          "metadata": {}
        }
      ]
    },
    {
      "cell_type": "markdown",
      "source": [
        "Here's the plot showing the Receiver Operating Characteristic (ROC) curves for both the K-means and DBSCAN models.\n",
        "\n",
        "- The blue line represents the ROC curve for the K-means model, with an area under the curve (AUC) of 0.71 (as previously calculated).\n",
        "\n",
        "- The green line represents the ROC curve for the DBSCAN model, with a higher AUC of 0.925.\n",
        "\n",
        "This visualization allows you to compare the performance of the two models in distinguishing between fraudulent and non-fraudulent transactions. The higher the AUC, the better the model is at predicting fraud correctly. As observed, the DBSCAN model shows a higher AUC, indicating a better performance in this specific scenario."
      ],
      "metadata": {
        "id": "z57XFWFH5VwI"
      }
    }
  ]
}